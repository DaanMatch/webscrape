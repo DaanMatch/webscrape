{
 "cells": [
  {
   "cell_type": "code",
   "execution_count": 6,
   "id": "ddb5584c-d65e-45c7-90c2-8e1c5cac890e",
   "metadata": {},
   "outputs": [],
   "source": [
    "import pandas as pd\n",
    "import uuid"
   ]
  },
  {
   "cell_type": "code",
   "execution_count": 29,
   "id": "9d30b07b-a66d-42d1-9caf-37ba401366b8",
   "metadata": {},
   "outputs": [],
   "source": [
    "mergedNgoBackground = pd.read_csv('Merged/NgoBackground.csv')\n",
    "mergedNgoContact = pd.read_csv('Merged/NgoContact.csv')\n",
    "mergedNgoRegistration = pd.read_csv('Merged/NgoRegistration.csv')"
   ]
  },
  {
   "cell_type": "code",
   "execution_count": 32,
   "id": "cc59d895-82dc-4376-ae69-2ac807555c90",
   "metadata": {},
   "outputs": [],
   "source": [
    "nationaltrustfinal_df = pd.read_csv('nationaltrustfinal.csv')\n",
    "ngo_impact_cleaned_424_df = pd.read_csv('ngo_impact_cleaned_424.csv')\n",
    "indian_ngo_list_cleaned_df = pd.read_csv('indian_ngo_list_cleaned.csv')\n",
    "ngoimpact_cleaned_df = pd.read_csv('ngoimpact_cleaned.csv')"
   ]
  },
  {
   "cell_type": "code",
   "execution_count": 33,
   "id": "03f84489-02a0-4e51-8a20-279ecd7e5c87",
   "metadata": {},
   "outputs": [
    {
     "name": "stdout",
     "output_type": "stream",
     "text": [
      "Index(['ngoid', 'state', 'district', 'ngoname', 'orgemail', 'physicaladdress',\n",
      "       'officephone', 'Schemes Enrolled', 'chairmanname'],\n",
      "      dtype='object')\n",
      "Index(['website', 'about', 'vision', 'registered_type',\n",
      "       'permanent_account_number', 'registration_number_date_CIN',\n",
      "       '12A_registration_number_date', '80G_registration_number_date',\n",
      "       'FCRA_registration_number_date', '35AC_registration_number_date',\n",
      "       'annual_budget', 'total_income', 'total_expenditure',\n",
      "       'avg_monthly_expenditure', 'total_fixed_assets', 'long_term_loan',\n",
      "       'total_gap_funding', 'num_full_time_employees',\n",
      "       'num_part_time_employees', 'num_consultants', 'num_volunteers',\n",
      "       'operational_area_help_needed', 'num_board_members',\n",
      "       'num_meetings_done', 'governance_photos', 'governance_docs',\n",
      "       'major_funder', 'funder_names', 'project_start_date',\n",
      "       'project_end_date', 'project_sector', 'location', 'cities', 'area',\n",
      "       'budget', 'external_funding_amount', 'num_beneficiaries',\n",
      "       'project_type', 'project_photos', 'project_documents',\n",
      "       'project_descriptions', 'logo', 'name', 'founder_description',\n",
      "       'address', 'url', 'focus_area', 'geog_area', 'project_completed',\n",
      "       'funding_req'],\n",
      "      dtype='object')\n",
      "Index(['ngo_name', 'id', 'chief_functionary', 'chairman', 'secretary',\n",
      "       'treasurer', 'registered_with', 'type', 'registration_number',\n",
      "       'registration_city', 'registration_state', 'registration_date', 'city',\n",
      "       'state', 'telephone', 'mobile', 'address', 'email', 'website', 'fax'],\n",
      "      dtype='object')\n",
      "Index(['website', 'about', 'vision', 'registered_type',\n",
      "       'permanent_account_number', 'registration_number_date_CIN',\n",
      "       '12A_registration_number_date', '80G_registration_number_date',\n",
      "       'FCRA_registration_number_date', '35AC_registration_number_date',\n",
      "       'annual_budget', 'total_income', 'total_expenditure',\n",
      "       'avg_monthly_expenditure', 'total_fixed_assets', 'long_term_loan',\n",
      "       'total_gap_funding', 'num_full_time_employees',\n",
      "       'num_part_time_employees', 'num_consultants', 'num_volunteers',\n",
      "       'operational_area_help_needed', 'num_board_members',\n",
      "       'num_meetings_done', 'governance_photos', 'governance_docs',\n",
      "       'major_funder', 'funder_names', 'project_start_date',\n",
      "       'project_end_date', 'project_sector', 'location', 'cities', 'area',\n",
      "       'budget', 'external_funding_amount', 'num_beneficiaries',\n",
      "       'project_type', 'project_photos', 'project_documents',\n",
      "       'project_descriptions', 'logo', 'name', 'founder_description',\n",
      "       'address', 'url', 'focus_area', 'geog_area', 'project_completed',\n",
      "       'funding_req'],\n",
      "      dtype='object')\n"
     ]
    }
   ],
   "source": [
    "df_list = [nationaltrustfinal_df, ngo_impact_cleaned_424_df, indian_ngo_list_cleaned_df, ngoimpact_cleaned_df]\n",
    "for df in df_list:\n",
    "    print(df.columns)"
   ]
  },
  {
   "cell_type": "code",
   "execution_count": 34,
   "id": "0230add4-9330-4491-9cc6-c1a376a2aea6",
   "metadata": {},
   "outputs": [],
   "source": [
    "# Apply UUID3 to all dataframes\n",
    "nationaltrustfinal_df['ngoId'] = [uuid.uuid3(uuid.NAMESPACE_URL, str(_)) for _ in nationaltrustfinal_df[\"ngoname\"]]\n",
    "ngo_impact_cleaned_424_df['ngoId'] = [uuid.uuid3(uuid.NAMESPACE_URL, str(_)) for _ in ngo_impact_cleaned_424_df[\"name\"]]\n",
    "indian_ngo_list_cleaned_df['ngoId'] = [uuid.uuid3(uuid.NAMESPACE_URL, str(_)) for _ in indian_ngo_list_cleaned_df[\"ngo_name\"]]\n",
    "ngoimpact_cleaned_df['ngoId'] = [uuid.uuid3(uuid.NAMESPACE_URL, str(_)) for _ in ngoimpact_cleaned_df[\"name\"]]"
   ]
  },
  {
   "cell_type": "code",
   "execution_count": 35,
   "id": "9b22b4b2-f511-4441-a189-638c78207c44",
   "metadata": {},
   "outputs": [],
   "source": [
    "NgoBackground = pd.DataFrame(columns=[\n",
    "    'ngoId', \n",
    "    'hasRegistration', \n",
    "    'hasFinance',\n",
    "    'logo', \n",
    "    'yearEstablished', \n",
    "    'missionStatement', \n",
    "    'vision', \n",
    "    'objectives', \n",
    "    'legalStatus', \n",
    "    'areasOfOperation', \n",
    "    'activeStatus'\n",
    "])\n",
    "NgoRegistration = pd.DataFrame(columns=[\n",
    "    'ngoId',\n",
    "    'isRegistrationFor',\n",
    "    'ngoType',\n",
    "    'regNo',\n",
    "    'regDate',\n",
    "    'registrar',\n",
    "    '12ANo',\n",
    "    '12ARegdate',\n",
    "    '12AUpload',\n",
    "    '80GNo',\n",
    "    '80GRegdate',\n",
    "    '80GUpload',\n",
    "    '35ACNo',\n",
    "    '35ACRegdate',\n",
    "    '35ACUpload',\n",
    "    'fCRANo',\n",
    "    'fCRARegdate',\n",
    "    'natureListed',\n",
    "    'fCRAStatus',\n",
    "    'fCRAExpiration',\n",
    "    'fCRAUpload',\n",
    "    'pan',\n",
    "    'tan',\n",
    "    'gst',\n",
    "    'notes'\n",
    "])\n",
    "\n",
    "NgoContact = pd.DataFrame(columns=[\n",
    "    'ngoId',\n",
    "    'ngoName',\n",
    "    'orgEmail',\n",
    "    'officePhone',\n",
    "    'primaryPoc',\n",
    "    'primaryPocPhone',\n",
    "    'secondaryPoc',\n",
    "    'secondaryPocPhone',\n",
    "    'mailingAddress',\n",
    "    'physicalAddress',\n",
    "    'fieldOffices',\n",
    "    'orgType',\n",
    "    'orgWebsite',\n",
    "    'websiteIsValid',\n",
    "    'facebook',\n",
    "    'twitter',\n",
    "    'iInstagram',\n",
    "    'youtube',\n",
    "    'whatsapp',\n",
    "    'otherSocials',\n",
    "    'scrapeSource',\n",
    "    'executiveDirector',\n",
    "    'technicalSupport',\n",
    "    'chairmanName',\n",
    "    'chairmanMobile',\n",
    "    'chairmanEmail',\n",
    "    'viceChairmanName',\n",
    "    'viceChairmanMobile',\n",
    "    'viceChairmanEmail',\n",
    "    'secretaryName',\n",
    "    'secretaryMobile',\n",
    "    'secretaryEmail',\n",
    "    'assistantSecretaryName',\n",
    "    'assistantSecretaryMobile',\n",
    "    'assistantSecretaryEmail'\n",
    "])"
   ]
  },
  {
   "cell_type": "code",
   "execution_count": 36,
   "id": "b66ec919-09db-40a2-9baa-18af1ae58484",
   "metadata": {},
   "outputs": [
    {
     "data": {
      "text/plain": [
       "Index(['ngoid', 'state', 'district', 'ngoname', 'orgemail', 'physicaladdress',\n",
       "       'officephone', 'Schemes Enrolled', 'chairmanname', 'ngoId'],\n",
       "      dtype='object')"
      ]
     },
     "execution_count": 36,
     "metadata": {},
     "output_type": "execute_result"
    }
   ],
   "source": [
    "nationaltrustfinal_df.columns"
   ]
  },
  {
   "cell_type": "code",
   "execution_count": 28,
   "id": "355f960d-45b2-413f-b6ed-ef561a4c08b6",
   "metadata": {},
   "outputs": [],
   "source": [
    "\n",
    "NgoContact[\"ngoName\"] = nationaltrustfinal_df['ngoId']\n",
    "NgoContact[\"ngoName\"] = nationaltrustfinal_df[\"ngoname\"].str.title()\n"
   ]
  },
  {
   "cell_type": "code",
   "execution_count": null,
   "id": "08ce7028-6a62-4bc0-8ffc-14f83beea0e5",
   "metadata": {},
   "outputs": [],
   "source": []
  }
 ],
 "metadata": {
  "kernelspec": {
   "display_name": "Python 3 (ipykernel)",
   "language": "python",
   "name": "python3"
  },
  "language_info": {
   "codemirror_mode": {
    "name": "ipython",
    "version": 3
   },
   "file_extension": ".py",
   "mimetype": "text/x-python",
   "name": "python",
   "nbconvert_exporter": "python",
   "pygments_lexer": "ipython3",
   "version": "3.8.12"
  }
 },
 "nbformat": 4,
 "nbformat_minor": 5
}
