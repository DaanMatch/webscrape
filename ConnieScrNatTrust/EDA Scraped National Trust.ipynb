{
 "cells": [
  {
   "cell_type": "code",
   "execution_count": 1,
   "id": "a4f3e319",
   "metadata": {},
   "outputs": [],
   "source": [
    "#import all necessary packages\n",
    "import numpy as np\n",
    "import pandas as pd\n",
    "import matplotlib as plt\n",
    "import re\n",
    "import os  \n",
    "from email_validator import validate_email, EmailNotValidError"
   ]
  },
  {
   "cell_type": "markdown",
   "id": "11035650",
   "metadata": {},
   "source": [
    "# EDA of the National Trust Dataset\n",
    "### National Trust\n",
    "The National Trust dataset is a database of all of the non-governmental organizations registered with the Indian National Trust for the Welfare of Persons with Autism, Cerebral Palsy, Mental Retardation and Multiple Disabilities. The National Trust is an Indian national governmental organization, specifically under the Department of Empowerment of Persons with Disabilities. According to the site website, this database was last updated on April 1st, 2022 as of March 6th, 2023."
   ]
  },
  {
   "cell_type": "code",
   "execution_count": 2,
   "id": "59213cf1",
   "metadata": {},
   "outputs": [
    {
     "data": {
      "text/html": [
       "<div>\n",
       "<style scoped>\n",
       "    .dataframe tbody tr th:only-of-type {\n",
       "        vertical-align: middle;\n",
       "    }\n",
       "\n",
       "    .dataframe tbody tr th {\n",
       "        vertical-align: top;\n",
       "    }\n",
       "\n",
       "    .dataframe thead th {\n",
       "        text-align: right;\n",
       "    }\n",
       "</style>\n",
       "<table border=\"1\" class=\"dataframe\">\n",
       "  <thead>\n",
       "    <tr style=\"text-align: right;\">\n",
       "      <th></th>\n",
       "      <th>S.No.</th>\n",
       "      <th>State</th>\n",
       "      <th>District</th>\n",
       "      <th>Organization Name</th>\n",
       "      <th>Email</th>\n",
       "      <th>Address</th>\n",
       "      <th>Phone No.</th>\n",
       "      <th>Schemes Enrolled</th>\n",
       "      <th>Authorized Person</th>\n",
       "    </tr>\n",
       "  </thead>\n",
       "  <tbody>\n",
       "    <tr>\n",
       "      <th>0</th>\n",
       "      <td>1</td>\n",
       "      <td>Andhra Pradesh</td>\n",
       "      <td>Krishna\\t\\t\\t\\t\\t\\t\\t\\t\\t\\t\\t</td>\n",
       "      <td>SIRISHA REHABILITATION CENTRE</td>\n",
       "      <td>srcpamidi@yahoo.com</td>\n",
       "      <td>\\r\\n\\t\\t\\t\\t\\t\\t\\t\\t\\t\\t\\t\\tDNO 3  /57, Veeran...</td>\n",
       "      <td>9441413161</td>\n",
       "      <td>\\r\\n\\t\\t\\t\\t\\t\\t\\t\\t\\t\\t\\t\\tVikaas,Disha\\t\\t\\t...</td>\n",
       "      <td>M IMMANUEL</td>\n",
       "    </tr>\n",
       "    <tr>\n",
       "      <th>1</th>\n",
       "      <td>2</td>\n",
       "      <td>Andhra Pradesh</td>\n",
       "      <td>Krishna\\t\\t\\t\\t\\t\\t\\t\\t\\t\\t\\t</td>\n",
       "      <td>Kasinadhuni Durgamba Butchaiah Trust</td>\n",
       "      <td>kdbtrust_elakurru@yahoo.com</td>\n",
       "      <td>\\r\\n\\t\\t\\t\\t\\t\\t\\t\\t\\t\\t\\t\\t3-74, NEAR S.F.U.P...</td>\n",
       "      <td>9441195424</td>\n",
       "      <td>\\r\\n\\t\\t\\t\\t\\t\\t\\t\\t\\t\\t\\t\\tDisha,Vikaas\\t\\t\\t...</td>\n",
       "      <td>Kasinadhuni Nageswara Rao</td>\n",
       "    </tr>\n",
       "    <tr>\n",
       "      <th>2</th>\n",
       "      <td>3</td>\n",
       "      <td>Andhra Pradesh</td>\n",
       "      <td>Godavari East\\t\\t\\t\\t\\t\\t\\t\\t\\t\\t\\t</td>\n",
       "      <td>Uma Educational and Technical Society</td>\n",
       "      <td>umamanovikasakendram@gmail.com</td>\n",
       "      <td>\\r\\n\\t\\t\\t\\t\\t\\t\\t\\t\\t\\t\\t\\t4 -54, Uma Manovik...</td>\n",
       "      <td>9848164779</td>\n",
       "      <td>\\r\\n\\t\\t\\t\\t\\t\\t\\t\\t\\t\\t\\t\\tBadhte Kadam,Ghara...</td>\n",
       "      <td>S.P.Reddy</td>\n",
       "    </tr>\n",
       "    <tr>\n",
       "      <th>3</th>\n",
       "      <td>4</td>\n",
       "      <td>Andhra Pradesh</td>\n",
       "      <td>Vishakhapatnam\\t\\t\\t\\t\\t\\t\\t\\t\\t\\t\\t</td>\n",
       "      <td>Sreya Foundation</td>\n",
       "      <td>sreyafoundation@yahoo.co.in</td>\n",
       "      <td>\\r\\n\\t\\t\\t\\t\\t\\t\\t\\t\\t\\t\\t\\tD.No.9-11-8/30, Si...</td>\n",
       "      <td>9290457978</td>\n",
       "      <td>\\r\\n\\t\\t\\t\\t\\t\\t\\t\\t\\t\\t\\t\\tSamarth,Badhte Kad...</td>\n",
       "      <td>Dr. Usha Devi.P</td>\n",
       "    </tr>\n",
       "    <tr>\n",
       "      <th>4</th>\n",
       "      <td>5</td>\n",
       "      <td>Andhra Pradesh</td>\n",
       "      <td>Guntur\\t\\t\\t\\t\\t\\t\\t\\t\\t\\t\\t</td>\n",
       "      <td>Sri Dakshinya Bhava Samithi</td>\n",
       "      <td>dakshinya1995@yahoo.com</td>\n",
       "      <td>\\r\\n\\t\\t\\t\\t\\t\\t\\t\\t\\t\\t\\t\\tMadhavi Nilayam, S...</td>\n",
       "      <td>7702977499</td>\n",
       "      <td>\\r\\n\\t\\t\\t\\t\\t\\t\\t\\t\\t\\t\\t\\tGharaunda,Samarth,...</td>\n",
       "      <td>Dr. T. Venkateswara Rao</td>\n",
       "    </tr>\n",
       "  </tbody>\n",
       "</table>\n",
       "</div>"
      ],
      "text/plain": [
       "  S.No.             State                              District  \\\n",
       "0     1   Andhra Pradesh          Krishna\\t\\t\\t\\t\\t\\t\\t\\t\\t\\t\\t   \n",
       "1     2   Andhra Pradesh          Krishna\\t\\t\\t\\t\\t\\t\\t\\t\\t\\t\\t   \n",
       "2     3   Andhra Pradesh    Godavari East\\t\\t\\t\\t\\t\\t\\t\\t\\t\\t\\t   \n",
       "3     4   Andhra Pradesh   Vishakhapatnam\\t\\t\\t\\t\\t\\t\\t\\t\\t\\t\\t   \n",
       "4     5   Andhra Pradesh           Guntur\\t\\t\\t\\t\\t\\t\\t\\t\\t\\t\\t   \n",
       "\n",
       "                       Organization Name                           Email  \\\n",
       "0          SIRISHA REHABILITATION CENTRE             srcpamidi@yahoo.com   \n",
       "1   Kasinadhuni Durgamba Butchaiah Trust     kdbtrust_elakurru@yahoo.com   \n",
       "2  Uma Educational and Technical Society  umamanovikasakendram@gmail.com   \n",
       "3                       Sreya Foundation     sreyafoundation@yahoo.co.in   \n",
       "4            Sri Dakshinya Bhava Samithi         dakshinya1995@yahoo.com   \n",
       "\n",
       "                                             Address     Phone No.  \\\n",
       "0  \\r\\n\\t\\t\\t\\t\\t\\t\\t\\t\\t\\t\\t\\tDNO 3  /57, Veeran...   9441413161    \n",
       "1  \\r\\n\\t\\t\\t\\t\\t\\t\\t\\t\\t\\t\\t\\t3-74, NEAR S.F.U.P...   9441195424    \n",
       "2  \\r\\n\\t\\t\\t\\t\\t\\t\\t\\t\\t\\t\\t\\t4 -54, Uma Manovik...   9848164779    \n",
       "3  \\r\\n\\t\\t\\t\\t\\t\\t\\t\\t\\t\\t\\t\\tD.No.9-11-8/30, Si...   9290457978    \n",
       "4  \\r\\n\\t\\t\\t\\t\\t\\t\\t\\t\\t\\t\\t\\tMadhavi Nilayam, S...   7702977499    \n",
       "\n",
       "                                    Schemes Enrolled  \\\n",
       "0  \\r\\n\\t\\t\\t\\t\\t\\t\\t\\t\\t\\t\\t\\tVikaas,Disha\\t\\t\\t...   \n",
       "1  \\r\\n\\t\\t\\t\\t\\t\\t\\t\\t\\t\\t\\t\\tDisha,Vikaas\\t\\t\\t...   \n",
       "2  \\r\\n\\t\\t\\t\\t\\t\\t\\t\\t\\t\\t\\t\\tBadhte Kadam,Ghara...   \n",
       "3  \\r\\n\\t\\t\\t\\t\\t\\t\\t\\t\\t\\t\\t\\tSamarth,Badhte Kad...   \n",
       "4  \\r\\n\\t\\t\\t\\t\\t\\t\\t\\t\\t\\t\\t\\tGharaunda,Samarth,...   \n",
       "\n",
       "           Authorized Person  \n",
       "0                 M IMMANUEL  \n",
       "1  Kasinadhuni Nageswara Rao  \n",
       "2                  S.P.Reddy  \n",
       "3            Dr. Usha Devi.P  \n",
       "4    Dr. T. Venkateswara Rao  "
      ]
     },
     "execution_count": 2,
     "metadata": {},
     "output_type": "execute_result"
    }
   ],
   "source": [
    "trust = pd.read_csv('nationaltrust1.csv', dtype={'Phone No.': 'str'})\n",
    "trust.head()"
   ]
  },
  {
   "cell_type": "markdown",
   "id": "d70b686a",
   "metadata": {},
   "source": [
    "## Cleaning the Data\n",
    "Before I begin to analyze this dataset, I need to clean the data extensively."
   ]
  },
  {
   "cell_type": "markdown",
   "id": "261c2d46",
   "metadata": {},
   "source": [
    "During the webscraping process, both unnecessary rows and values in certain columns were added to my data.\n",
    "For every page that my scraper navigated to, two rows of nearly entirely NaN values (except the S.No. column) were added as rows to the dataset, which need to be dropped. According to the dataset, there are exactly 542 actual entries in our data. <br>\n",
    "<br>\n",
    "Values in the 'District', 'Address', and 'Schemes Enrolled' columns had strings of format-type characters concatenated to the actual data values, which need to be dropped. <br>"
   ]
  },
  {
   "cell_type": "markdown",
   "id": "91611a0b",
   "metadata": {},
   "source": [
    "### Dropping Non-Entry Rows"
   ]
  },
  {
   "cell_type": "code",
   "execution_count": 3,
   "id": "dea5fb5d",
   "metadata": {},
   "outputs": [
    {
     "data": {
      "text/plain": [
       "542"
      ]
     },
     "execution_count": 3,
     "metadata": {},
     "output_type": "execute_result"
    }
   ],
   "source": [
    "trust.value_counts(['State']).sum()"
   ]
  },
  {
   "cell_type": "markdown",
   "id": "a80507ef",
   "metadata": {},
   "source": [
    "Looking at the sum of value counts under the state column, there are 542 rows with some state value listed above (and therefore not NaN); I can therefore exclude all rows that have a NaN value in the current dataframe, as all of the rows with actual data will be preserved."
   ]
  },
  {
   "cell_type": "code",
   "execution_count": 4,
   "id": "23905beb",
   "metadata": {},
   "outputs": [
    {
     "data": {
      "text/html": [
       "<div>\n",
       "<style scoped>\n",
       "    .dataframe tbody tr th:only-of-type {\n",
       "        vertical-align: middle;\n",
       "    }\n",
       "\n",
       "    .dataframe tbody tr th {\n",
       "        vertical-align: top;\n",
       "    }\n",
       "\n",
       "    .dataframe thead th {\n",
       "        text-align: right;\n",
       "    }\n",
       "</style>\n",
       "<table border=\"1\" class=\"dataframe\">\n",
       "  <thead>\n",
       "    <tr style=\"text-align: right;\">\n",
       "      <th></th>\n",
       "      <th>S.No.</th>\n",
       "      <th>State</th>\n",
       "      <th>District</th>\n",
       "      <th>Organization Name</th>\n",
       "      <th>Email</th>\n",
       "      <th>Address</th>\n",
       "      <th>Phone No.</th>\n",
       "      <th>Schemes Enrolled</th>\n",
       "      <th>Authorized Person</th>\n",
       "    </tr>\n",
       "  </thead>\n",
       "  <tbody>\n",
       "    <tr>\n",
       "      <th>0</th>\n",
       "      <td>1</td>\n",
       "      <td>Andhra Pradesh</td>\n",
       "      <td>Krishna\\t\\t\\t\\t\\t\\t\\t\\t\\t\\t\\t</td>\n",
       "      <td>SIRISHA REHABILITATION CENTRE</td>\n",
       "      <td>srcpamidi@yahoo.com</td>\n",
       "      <td>\\r\\n\\t\\t\\t\\t\\t\\t\\t\\t\\t\\t\\t\\tDNO 3  /57, Veeran...</td>\n",
       "      <td>9441413161</td>\n",
       "      <td>\\r\\n\\t\\t\\t\\t\\t\\t\\t\\t\\t\\t\\t\\tVikaas,Disha\\t\\t\\t...</td>\n",
       "      <td>M IMMANUEL</td>\n",
       "    </tr>\n",
       "    <tr>\n",
       "      <th>1</th>\n",
       "      <td>2</td>\n",
       "      <td>Andhra Pradesh</td>\n",
       "      <td>Krishna\\t\\t\\t\\t\\t\\t\\t\\t\\t\\t\\t</td>\n",
       "      <td>Kasinadhuni Durgamba Butchaiah Trust</td>\n",
       "      <td>kdbtrust_elakurru@yahoo.com</td>\n",
       "      <td>\\r\\n\\t\\t\\t\\t\\t\\t\\t\\t\\t\\t\\t\\t3-74, NEAR S.F.U.P...</td>\n",
       "      <td>9441195424</td>\n",
       "      <td>\\r\\n\\t\\t\\t\\t\\t\\t\\t\\t\\t\\t\\t\\tDisha,Vikaas\\t\\t\\t...</td>\n",
       "      <td>Kasinadhuni Nageswara Rao</td>\n",
       "    </tr>\n",
       "    <tr>\n",
       "      <th>2</th>\n",
       "      <td>3</td>\n",
       "      <td>Andhra Pradesh</td>\n",
       "      <td>Godavari East\\t\\t\\t\\t\\t\\t\\t\\t\\t\\t\\t</td>\n",
       "      <td>Uma Educational and Technical Society</td>\n",
       "      <td>umamanovikasakendram@gmail.com</td>\n",
       "      <td>\\r\\n\\t\\t\\t\\t\\t\\t\\t\\t\\t\\t\\t\\t4 -54, Uma Manovik...</td>\n",
       "      <td>9848164779</td>\n",
       "      <td>\\r\\n\\t\\t\\t\\t\\t\\t\\t\\t\\t\\t\\t\\tBadhte Kadam,Ghara...</td>\n",
       "      <td>S.P.Reddy</td>\n",
       "    </tr>\n",
       "    <tr>\n",
       "      <th>3</th>\n",
       "      <td>4</td>\n",
       "      <td>Andhra Pradesh</td>\n",
       "      <td>Vishakhapatnam\\t\\t\\t\\t\\t\\t\\t\\t\\t\\t\\t</td>\n",
       "      <td>Sreya Foundation</td>\n",
       "      <td>sreyafoundation@yahoo.co.in</td>\n",
       "      <td>\\r\\n\\t\\t\\t\\t\\t\\t\\t\\t\\t\\t\\t\\tD.No.9-11-8/30, Si...</td>\n",
       "      <td>9290457978</td>\n",
       "      <td>\\r\\n\\t\\t\\t\\t\\t\\t\\t\\t\\t\\t\\t\\tSamarth,Badhte Kad...</td>\n",
       "      <td>Dr. Usha Devi.P</td>\n",
       "    </tr>\n",
       "    <tr>\n",
       "      <th>4</th>\n",
       "      <td>5</td>\n",
       "      <td>Andhra Pradesh</td>\n",
       "      <td>Guntur\\t\\t\\t\\t\\t\\t\\t\\t\\t\\t\\t</td>\n",
       "      <td>Sri Dakshinya Bhava Samithi</td>\n",
       "      <td>dakshinya1995@yahoo.com</td>\n",
       "      <td>\\r\\n\\t\\t\\t\\t\\t\\t\\t\\t\\t\\t\\t\\tMadhavi Nilayam, S...</td>\n",
       "      <td>7702977499</td>\n",
       "      <td>\\r\\n\\t\\t\\t\\t\\t\\t\\t\\t\\t\\t\\t\\tGharaunda,Samarth,...</td>\n",
       "      <td>Dr. T. Venkateswara Rao</td>\n",
       "    </tr>\n",
       "  </tbody>\n",
       "</table>\n",
       "</div>"
      ],
      "text/plain": [
       "  S.No.             State                              District  \\\n",
       "0     1   Andhra Pradesh          Krishna\\t\\t\\t\\t\\t\\t\\t\\t\\t\\t\\t   \n",
       "1     2   Andhra Pradesh          Krishna\\t\\t\\t\\t\\t\\t\\t\\t\\t\\t\\t   \n",
       "2     3   Andhra Pradesh    Godavari East\\t\\t\\t\\t\\t\\t\\t\\t\\t\\t\\t   \n",
       "3     4   Andhra Pradesh   Vishakhapatnam\\t\\t\\t\\t\\t\\t\\t\\t\\t\\t\\t   \n",
       "4     5   Andhra Pradesh           Guntur\\t\\t\\t\\t\\t\\t\\t\\t\\t\\t\\t   \n",
       "\n",
       "                       Organization Name                           Email  \\\n",
       "0          SIRISHA REHABILITATION CENTRE             srcpamidi@yahoo.com   \n",
       "1   Kasinadhuni Durgamba Butchaiah Trust     kdbtrust_elakurru@yahoo.com   \n",
       "2  Uma Educational and Technical Society  umamanovikasakendram@gmail.com   \n",
       "3                       Sreya Foundation     sreyafoundation@yahoo.co.in   \n",
       "4            Sri Dakshinya Bhava Samithi         dakshinya1995@yahoo.com   \n",
       "\n",
       "                                             Address     Phone No.  \\\n",
       "0  \\r\\n\\t\\t\\t\\t\\t\\t\\t\\t\\t\\t\\t\\tDNO 3  /57, Veeran...   9441413161    \n",
       "1  \\r\\n\\t\\t\\t\\t\\t\\t\\t\\t\\t\\t\\t\\t3-74, NEAR S.F.U.P...   9441195424    \n",
       "2  \\r\\n\\t\\t\\t\\t\\t\\t\\t\\t\\t\\t\\t\\t4 -54, Uma Manovik...   9848164779    \n",
       "3  \\r\\n\\t\\t\\t\\t\\t\\t\\t\\t\\t\\t\\t\\tD.No.9-11-8/30, Si...   9290457978    \n",
       "4  \\r\\n\\t\\t\\t\\t\\t\\t\\t\\t\\t\\t\\t\\tMadhavi Nilayam, S...   7702977499    \n",
       "\n",
       "                                    Schemes Enrolled  \\\n",
       "0  \\r\\n\\t\\t\\t\\t\\t\\t\\t\\t\\t\\t\\t\\tVikaas,Disha\\t\\t\\t...   \n",
       "1  \\r\\n\\t\\t\\t\\t\\t\\t\\t\\t\\t\\t\\t\\tDisha,Vikaas\\t\\t\\t...   \n",
       "2  \\r\\n\\t\\t\\t\\t\\t\\t\\t\\t\\t\\t\\t\\tBadhte Kadam,Ghara...   \n",
       "3  \\r\\n\\t\\t\\t\\t\\t\\t\\t\\t\\t\\t\\t\\tSamarth,Badhte Kad...   \n",
       "4  \\r\\n\\t\\t\\t\\t\\t\\t\\t\\t\\t\\t\\t\\tGharaunda,Samarth,...   \n",
       "\n",
       "           Authorized Person  \n",
       "0                 M IMMANUEL  \n",
       "1  Kasinadhuni Nageswara Rao  \n",
       "2                  S.P.Reddy  \n",
       "3            Dr. Usha Devi.P  \n",
       "4    Dr. T. Venkateswara Rao  "
      ]
     },
     "execution_count": 4,
     "metadata": {},
     "output_type": "execute_result"
    }
   ],
   "source": [
    "trust = trust[trust['State'].notna()]\n",
    "trust.head()"
   ]
  },
  {
   "cell_type": "markdown",
   "id": "531d8a63",
   "metadata": {},
   "source": [
    "All of the extraneous rows have been dropped, and the dataframe now has only the 542 entries from the data source."
   ]
  },
  {
   "cell_type": "markdown",
   "id": "28c4c1c5",
   "metadata": {},
   "source": [
    "### Fixing the Dataframe Indices"
   ]
  },
  {
   "cell_type": "code",
   "execution_count": 5,
   "id": "3b3b5a33",
   "metadata": {},
   "outputs": [
    {
     "data": {
      "text/html": [
       "<div>\n",
       "<style scoped>\n",
       "    .dataframe tbody tr th:only-of-type {\n",
       "        vertical-align: middle;\n",
       "    }\n",
       "\n",
       "    .dataframe tbody tr th {\n",
       "        vertical-align: top;\n",
       "    }\n",
       "\n",
       "    .dataframe thead th {\n",
       "        text-align: right;\n",
       "    }\n",
       "</style>\n",
       "<table border=\"1\" class=\"dataframe\">\n",
       "  <thead>\n",
       "    <tr style=\"text-align: right;\">\n",
       "      <th></th>\n",
       "      <th>S.No.</th>\n",
       "      <th>State</th>\n",
       "      <th>District</th>\n",
       "      <th>Organization Name</th>\n",
       "      <th>Email</th>\n",
       "      <th>Address</th>\n",
       "      <th>Phone No.</th>\n",
       "      <th>Schemes Enrolled</th>\n",
       "      <th>Authorized Person</th>\n",
       "    </tr>\n",
       "  </thead>\n",
       "  <tbody>\n",
       "    <tr>\n",
       "      <th>0</th>\n",
       "      <td>1</td>\n",
       "      <td>Andhra Pradesh</td>\n",
       "      <td>Krishna\\t\\t\\t\\t\\t\\t\\t\\t\\t\\t\\t</td>\n",
       "      <td>SIRISHA REHABILITATION CENTRE</td>\n",
       "      <td>srcpamidi@yahoo.com</td>\n",
       "      <td>\\r\\n\\t\\t\\t\\t\\t\\t\\t\\t\\t\\t\\t\\tDNO 3  /57, Veeran...</td>\n",
       "      <td>9441413161</td>\n",
       "      <td>\\r\\n\\t\\t\\t\\t\\t\\t\\t\\t\\t\\t\\t\\tVikaas,Disha\\t\\t\\t...</td>\n",
       "      <td>M IMMANUEL</td>\n",
       "    </tr>\n",
       "    <tr>\n",
       "      <th>1</th>\n",
       "      <td>2</td>\n",
       "      <td>Andhra Pradesh</td>\n",
       "      <td>Krishna\\t\\t\\t\\t\\t\\t\\t\\t\\t\\t\\t</td>\n",
       "      <td>Kasinadhuni Durgamba Butchaiah Trust</td>\n",
       "      <td>kdbtrust_elakurru@yahoo.com</td>\n",
       "      <td>\\r\\n\\t\\t\\t\\t\\t\\t\\t\\t\\t\\t\\t\\t3-74, NEAR S.F.U.P...</td>\n",
       "      <td>9441195424</td>\n",
       "      <td>\\r\\n\\t\\t\\t\\t\\t\\t\\t\\t\\t\\t\\t\\tDisha,Vikaas\\t\\t\\t...</td>\n",
       "      <td>Kasinadhuni Nageswara Rao</td>\n",
       "    </tr>\n",
       "    <tr>\n",
       "      <th>2</th>\n",
       "      <td>3</td>\n",
       "      <td>Andhra Pradesh</td>\n",
       "      <td>Godavari East\\t\\t\\t\\t\\t\\t\\t\\t\\t\\t\\t</td>\n",
       "      <td>Uma Educational and Technical Society</td>\n",
       "      <td>umamanovikasakendram@gmail.com</td>\n",
       "      <td>\\r\\n\\t\\t\\t\\t\\t\\t\\t\\t\\t\\t\\t\\t4 -54, Uma Manovik...</td>\n",
       "      <td>9848164779</td>\n",
       "      <td>\\r\\n\\t\\t\\t\\t\\t\\t\\t\\t\\t\\t\\t\\tBadhte Kadam,Ghara...</td>\n",
       "      <td>S.P.Reddy</td>\n",
       "    </tr>\n",
       "    <tr>\n",
       "      <th>3</th>\n",
       "      <td>4</td>\n",
       "      <td>Andhra Pradesh</td>\n",
       "      <td>Vishakhapatnam\\t\\t\\t\\t\\t\\t\\t\\t\\t\\t\\t</td>\n",
       "      <td>Sreya Foundation</td>\n",
       "      <td>sreyafoundation@yahoo.co.in</td>\n",
       "      <td>\\r\\n\\t\\t\\t\\t\\t\\t\\t\\t\\t\\t\\t\\tD.No.9-11-8/30, Si...</td>\n",
       "      <td>9290457978</td>\n",
       "      <td>\\r\\n\\t\\t\\t\\t\\t\\t\\t\\t\\t\\t\\t\\tSamarth,Badhte Kad...</td>\n",
       "      <td>Dr. Usha Devi.P</td>\n",
       "    </tr>\n",
       "    <tr>\n",
       "      <th>4</th>\n",
       "      <td>5</td>\n",
       "      <td>Andhra Pradesh</td>\n",
       "      <td>Guntur\\t\\t\\t\\t\\t\\t\\t\\t\\t\\t\\t</td>\n",
       "      <td>Sri Dakshinya Bhava Samithi</td>\n",
       "      <td>dakshinya1995@yahoo.com</td>\n",
       "      <td>\\r\\n\\t\\t\\t\\t\\t\\t\\t\\t\\t\\t\\t\\tMadhavi Nilayam, S...</td>\n",
       "      <td>7702977499</td>\n",
       "      <td>\\r\\n\\t\\t\\t\\t\\t\\t\\t\\t\\t\\t\\t\\tGharaunda,Samarth,...</td>\n",
       "      <td>Dr. T. Venkateswara Rao</td>\n",
       "    </tr>\n",
       "  </tbody>\n",
       "</table>\n",
       "</div>"
      ],
      "text/plain": [
       "  S.No.             State                              District  \\\n",
       "0     1   Andhra Pradesh          Krishna\\t\\t\\t\\t\\t\\t\\t\\t\\t\\t\\t   \n",
       "1     2   Andhra Pradesh          Krishna\\t\\t\\t\\t\\t\\t\\t\\t\\t\\t\\t   \n",
       "2     3   Andhra Pradesh    Godavari East\\t\\t\\t\\t\\t\\t\\t\\t\\t\\t\\t   \n",
       "3     4   Andhra Pradesh   Vishakhapatnam\\t\\t\\t\\t\\t\\t\\t\\t\\t\\t\\t   \n",
       "4     5   Andhra Pradesh           Guntur\\t\\t\\t\\t\\t\\t\\t\\t\\t\\t\\t   \n",
       "\n",
       "                       Organization Name                           Email  \\\n",
       "0          SIRISHA REHABILITATION CENTRE             srcpamidi@yahoo.com   \n",
       "1   Kasinadhuni Durgamba Butchaiah Trust     kdbtrust_elakurru@yahoo.com   \n",
       "2  Uma Educational and Technical Society  umamanovikasakendram@gmail.com   \n",
       "3                       Sreya Foundation     sreyafoundation@yahoo.co.in   \n",
       "4            Sri Dakshinya Bhava Samithi         dakshinya1995@yahoo.com   \n",
       "\n",
       "                                             Address     Phone No.  \\\n",
       "0  \\r\\n\\t\\t\\t\\t\\t\\t\\t\\t\\t\\t\\t\\tDNO 3  /57, Veeran...   9441413161    \n",
       "1  \\r\\n\\t\\t\\t\\t\\t\\t\\t\\t\\t\\t\\t\\t3-74, NEAR S.F.U.P...   9441195424    \n",
       "2  \\r\\n\\t\\t\\t\\t\\t\\t\\t\\t\\t\\t\\t\\t4 -54, Uma Manovik...   9848164779    \n",
       "3  \\r\\n\\t\\t\\t\\t\\t\\t\\t\\t\\t\\t\\t\\tD.No.9-11-8/30, Si...   9290457978    \n",
       "4  \\r\\n\\t\\t\\t\\t\\t\\t\\t\\t\\t\\t\\t\\tMadhavi Nilayam, S...   7702977499    \n",
       "\n",
       "                                    Schemes Enrolled  \\\n",
       "0  \\r\\n\\t\\t\\t\\t\\t\\t\\t\\t\\t\\t\\t\\tVikaas,Disha\\t\\t\\t...   \n",
       "1  \\r\\n\\t\\t\\t\\t\\t\\t\\t\\t\\t\\t\\t\\tDisha,Vikaas\\t\\t\\t...   \n",
       "2  \\r\\n\\t\\t\\t\\t\\t\\t\\t\\t\\t\\t\\t\\tBadhte Kadam,Ghara...   \n",
       "3  \\r\\n\\t\\t\\t\\t\\t\\t\\t\\t\\t\\t\\t\\tSamarth,Badhte Kad...   \n",
       "4  \\r\\n\\t\\t\\t\\t\\t\\t\\t\\t\\t\\t\\t\\tGharaunda,Samarth,...   \n",
       "\n",
       "           Authorized Person  \n",
       "0                 M IMMANUEL  \n",
       "1  Kasinadhuni Nageswara Rao  \n",
       "2                  S.P.Reddy  \n",
       "3            Dr. Usha Devi.P  \n",
       "4    Dr. T. Venkateswara Rao  "
      ]
     },
     "execution_count": 5,
     "metadata": {},
     "output_type": "execute_result"
    }
   ],
   "source": [
    "trust = trust.reset_index()\n",
    "trust = trust.drop(columns=['index'])\n",
    "trust.head()"
   ]
  },
  {
   "cell_type": "markdown",
   "id": "80f2359e",
   "metadata": {},
   "source": [
    "### The District Column"
   ]
  },
  {
   "cell_type": "code",
   "execution_count": 6,
   "id": "c0174770",
   "metadata": {},
   "outputs": [
    {
     "data": {
      "text/plain": [
       "'Krishna\\t\\t\\t\\t\\t\\t\\t\\t\\t\\t\\t'"
      ]
     },
     "execution_count": 6,
     "metadata": {},
     "output_type": "execute_result"
    }
   ],
   "source": [
    "trust['District'][0]"
   ]
  },
  {
   "cell_type": "code",
   "execution_count": 7,
   "id": "d167c948",
   "metadata": {},
   "outputs": [
    {
     "data": {
      "text/plain": [
       "'Krishna\\t\\t\\t\\t\\t\\t\\t\\t\\t\\t\\t'"
      ]
     },
     "execution_count": 7,
     "metadata": {},
     "output_type": "execute_result"
    }
   ],
   "source": [
    "trust['District'][1]"
   ]
  },
  {
   "cell_type": "markdown",
   "id": "683d4fcf",
   "metadata": {},
   "source": [
    "Evident from the first few rows, all of the values of the district column contain excess characters after the last letter of the actual data; this excess character string always starts with a '\\' character, which I can split the string to obtain just the desired value."
   ]
  },
  {
   "cell_type": "code",
   "execution_count": 8,
   "id": "fa3bef5c",
   "metadata": {},
   "outputs": [
    {
     "data": {
      "text/html": [
       "<div>\n",
       "<style scoped>\n",
       "    .dataframe tbody tr th:only-of-type {\n",
       "        vertical-align: middle;\n",
       "    }\n",
       "\n",
       "    .dataframe tbody tr th {\n",
       "        vertical-align: top;\n",
       "    }\n",
       "\n",
       "    .dataframe thead th {\n",
       "        text-align: right;\n",
       "    }\n",
       "</style>\n",
       "<table border=\"1\" class=\"dataframe\">\n",
       "  <thead>\n",
       "    <tr style=\"text-align: right;\">\n",
       "      <th></th>\n",
       "      <th>S.No.</th>\n",
       "      <th>State</th>\n",
       "      <th>District</th>\n",
       "      <th>Organization Name</th>\n",
       "      <th>Email</th>\n",
       "      <th>Address</th>\n",
       "      <th>Phone No.</th>\n",
       "      <th>Schemes Enrolled</th>\n",
       "      <th>Authorized Person</th>\n",
       "    </tr>\n",
       "  </thead>\n",
       "  <tbody>\n",
       "    <tr>\n",
       "      <th>0</th>\n",
       "      <td>1</td>\n",
       "      <td>Andhra Pradesh</td>\n",
       "      <td>Krishna</td>\n",
       "      <td>SIRISHA REHABILITATION CENTRE</td>\n",
       "      <td>srcpamidi@yahoo.com</td>\n",
       "      <td>\\r\\n\\t\\t\\t\\t\\t\\t\\t\\t\\t\\t\\t\\tDNO 3  /57, Veeran...</td>\n",
       "      <td>9441413161</td>\n",
       "      <td>\\r\\n\\t\\t\\t\\t\\t\\t\\t\\t\\t\\t\\t\\tVikaas,Disha\\t\\t\\t...</td>\n",
       "      <td>M IMMANUEL</td>\n",
       "    </tr>\n",
       "    <tr>\n",
       "      <th>1</th>\n",
       "      <td>2</td>\n",
       "      <td>Andhra Pradesh</td>\n",
       "      <td>Krishna</td>\n",
       "      <td>Kasinadhuni Durgamba Butchaiah Trust</td>\n",
       "      <td>kdbtrust_elakurru@yahoo.com</td>\n",
       "      <td>\\r\\n\\t\\t\\t\\t\\t\\t\\t\\t\\t\\t\\t\\t3-74, NEAR S.F.U.P...</td>\n",
       "      <td>9441195424</td>\n",
       "      <td>\\r\\n\\t\\t\\t\\t\\t\\t\\t\\t\\t\\t\\t\\tDisha,Vikaas\\t\\t\\t...</td>\n",
       "      <td>Kasinadhuni Nageswara Rao</td>\n",
       "    </tr>\n",
       "    <tr>\n",
       "      <th>2</th>\n",
       "      <td>3</td>\n",
       "      <td>Andhra Pradesh</td>\n",
       "      <td>Godavari East</td>\n",
       "      <td>Uma Educational and Technical Society</td>\n",
       "      <td>umamanovikasakendram@gmail.com</td>\n",
       "      <td>\\r\\n\\t\\t\\t\\t\\t\\t\\t\\t\\t\\t\\t\\t4 -54, Uma Manovik...</td>\n",
       "      <td>9848164779</td>\n",
       "      <td>\\r\\n\\t\\t\\t\\t\\t\\t\\t\\t\\t\\t\\t\\tBadhte Kadam,Ghara...</td>\n",
       "      <td>S.P.Reddy</td>\n",
       "    </tr>\n",
       "    <tr>\n",
       "      <th>3</th>\n",
       "      <td>4</td>\n",
       "      <td>Andhra Pradesh</td>\n",
       "      <td>Vishakhapatnam</td>\n",
       "      <td>Sreya Foundation</td>\n",
       "      <td>sreyafoundation@yahoo.co.in</td>\n",
       "      <td>\\r\\n\\t\\t\\t\\t\\t\\t\\t\\t\\t\\t\\t\\tD.No.9-11-8/30, Si...</td>\n",
       "      <td>9290457978</td>\n",
       "      <td>\\r\\n\\t\\t\\t\\t\\t\\t\\t\\t\\t\\t\\t\\tSamarth,Badhte Kad...</td>\n",
       "      <td>Dr. Usha Devi.P</td>\n",
       "    </tr>\n",
       "    <tr>\n",
       "      <th>4</th>\n",
       "      <td>5</td>\n",
       "      <td>Andhra Pradesh</td>\n",
       "      <td>Guntur</td>\n",
       "      <td>Sri Dakshinya Bhava Samithi</td>\n",
       "      <td>dakshinya1995@yahoo.com</td>\n",
       "      <td>\\r\\n\\t\\t\\t\\t\\t\\t\\t\\t\\t\\t\\t\\tMadhavi Nilayam, S...</td>\n",
       "      <td>7702977499</td>\n",
       "      <td>\\r\\n\\t\\t\\t\\t\\t\\t\\t\\t\\t\\t\\t\\tGharaunda,Samarth,...</td>\n",
       "      <td>Dr. T. Venkateswara Rao</td>\n",
       "    </tr>\n",
       "  </tbody>\n",
       "</table>\n",
       "</div>"
      ],
      "text/plain": [
       "  S.No.             State        District  \\\n",
       "0     1   Andhra Pradesh          Krishna   \n",
       "1     2   Andhra Pradesh          Krishna   \n",
       "2     3   Andhra Pradesh    Godavari East   \n",
       "3     4   Andhra Pradesh   Vishakhapatnam   \n",
       "4     5   Andhra Pradesh           Guntur   \n",
       "\n",
       "                       Organization Name                           Email  \\\n",
       "0          SIRISHA REHABILITATION CENTRE             srcpamidi@yahoo.com   \n",
       "1   Kasinadhuni Durgamba Butchaiah Trust     kdbtrust_elakurru@yahoo.com   \n",
       "2  Uma Educational and Technical Society  umamanovikasakendram@gmail.com   \n",
       "3                       Sreya Foundation     sreyafoundation@yahoo.co.in   \n",
       "4            Sri Dakshinya Bhava Samithi         dakshinya1995@yahoo.com   \n",
       "\n",
       "                                             Address     Phone No.  \\\n",
       "0  \\r\\n\\t\\t\\t\\t\\t\\t\\t\\t\\t\\t\\t\\tDNO 3  /57, Veeran...   9441413161    \n",
       "1  \\r\\n\\t\\t\\t\\t\\t\\t\\t\\t\\t\\t\\t\\t3-74, NEAR S.F.U.P...   9441195424    \n",
       "2  \\r\\n\\t\\t\\t\\t\\t\\t\\t\\t\\t\\t\\t\\t4 -54, Uma Manovik...   9848164779    \n",
       "3  \\r\\n\\t\\t\\t\\t\\t\\t\\t\\t\\t\\t\\t\\tD.No.9-11-8/30, Si...   9290457978    \n",
       "4  \\r\\n\\t\\t\\t\\t\\t\\t\\t\\t\\t\\t\\t\\tMadhavi Nilayam, S...   7702977499    \n",
       "\n",
       "                                    Schemes Enrolled  \\\n",
       "0  \\r\\n\\t\\t\\t\\t\\t\\t\\t\\t\\t\\t\\t\\tVikaas,Disha\\t\\t\\t...   \n",
       "1  \\r\\n\\t\\t\\t\\t\\t\\t\\t\\t\\t\\t\\t\\tDisha,Vikaas\\t\\t\\t...   \n",
       "2  \\r\\n\\t\\t\\t\\t\\t\\t\\t\\t\\t\\t\\t\\tBadhte Kadam,Ghara...   \n",
       "3  \\r\\n\\t\\t\\t\\t\\t\\t\\t\\t\\t\\t\\t\\tSamarth,Badhte Kad...   \n",
       "4  \\r\\n\\t\\t\\t\\t\\t\\t\\t\\t\\t\\t\\t\\tGharaunda,Samarth,...   \n",
       "\n",
       "           Authorized Person  \n",
       "0                 M IMMANUEL  \n",
       "1  Kasinadhuni Nageswara Rao  \n",
       "2                  S.P.Reddy  \n",
       "3            Dr. Usha Devi.P  \n",
       "4    Dr. T. Venkateswara Rao  "
      ]
     },
     "execution_count": 8,
     "metadata": {},
     "output_type": "execute_result"
    }
   ],
   "source": [
    "trust['District'] = trust['District'].astype(str)\n",
    "trust['District'] = trust['District'].str.split('\\t\\t\\t\\t\\t\\t\\t\\t\\t\\t\\t').str[0]\n",
    "trust.head()"
   ]
  },
  {
   "cell_type": "markdown",
   "id": "c173d8e6",
   "metadata": {},
   "source": [
    "### The Organization Name Column"
   ]
  },
  {
   "cell_type": "code",
   "execution_count": 9,
   "id": "0cc05e53",
   "metadata": {},
   "outputs": [
    {
     "data": {
      "text/plain": [
       "0                          Sirisha Rehabilitation Centre\n",
       "1                   Kasinadhuni Durgamba Butchaiah Trust\n",
       "2                  Uma Educational and Technical Society\n",
       "3                                       Sreya Foundation\n",
       "4                            Sri Dakshinya Bhava Samithi\n",
       "                             ...                        \n",
       "537                                    Muskan Foundation\n",
       "538                           Voluntary Medicare Society\n",
       "539                  Swami Viveka Nand Educational Trust\n",
       "540    Hope Disability Centre an Undertaking Of She H...\n",
       "541     Humanity Welfare Organisation Helpline Bijbehara\n",
       "Name: Organization Name, Length: 542, dtype: object"
      ]
     },
     "execution_count": 9,
     "metadata": {},
     "output_type": "execute_result"
    }
   ],
   "source": [
    "excluded_words = ['and', 'an', 'run', 'the', 'for', 'by']\n",
    "\n",
    "i = 0\n",
    "for name in trust['Organization Name']:\n",
    "    words = name.split()\n",
    "    first_word = [words[0].capitalize()]\n",
    "    rest_words = words[1:]\n",
    "    capitalized_words = [word.title() if word.lower() not in excluded_words else word.lower() for word in rest_words]\n",
    "    converted_string = \" \".join(first_word + capitalized_words)\n",
    "   \n",
    "    trust['Organization Name'][i] = converted_string\n",
    "    i = i + 1\n",
    "\n",
    "trust['Organization Name']"
   ]
  },
  {
   "cell_type": "markdown",
   "id": "fbb50480",
   "metadata": {},
   "source": [
    "### The Phone Number Column"
   ]
  },
  {
   "cell_type": "code",
   "execution_count": 10,
   "id": "c9bd602a",
   "metadata": {},
   "outputs": [
    {
     "data": {
      "text/plain": [
       "0               srcpamidi@yahoo.com\n",
       "1       kdbtrust_elakurru@yahoo.com\n",
       "2    umamanovikasakendram@gmail.com\n",
       "3       sreyafoundation@yahoo.co.in\n",
       "4           dakshinya1995@yahoo.com\n",
       "Name: Email, dtype: object"
      ]
     },
     "execution_count": 10,
     "metadata": {},
     "output_type": "execute_result"
    }
   ],
   "source": [
    "#set all email characters to lowercase\n",
    "lowercase = lambda x: x.lower() \n",
    "trust['Email'] = trust['Email'].apply(lowercase)\n",
    "trust['Email'].head()"
   ]
  },
  {
   "cell_type": "markdown",
   "id": "7f1f3660",
   "metadata": {},
   "source": [
    "### The Address Column"
   ]
  },
  {
   "cell_type": "code",
   "execution_count": 11,
   "id": "edc2d840",
   "metadata": {},
   "outputs": [
    {
     "data": {
      "text/plain": [
       "0    Dno 3 /57, Veerankilock,Pamidimukkala(Md), Vee...\n",
       "1    3-74, Near S.F.U.P Schoolink Road, Elakurru - ...\n",
       "2    4 -54, Uma Manovikas Nagarvakala Pudi Panchaya...\n",
       "3    D.No.9-11-8/30, Sivajipalemopp Road Sivajipark...\n",
       "4    Madhavi Nilayam, Swarna Bharathi Nagarj.K.C. C...\n",
       "Name: Address, dtype: object"
      ]
     },
     "execution_count": 11,
     "metadata": {},
     "output_type": "execute_result"
    }
   ],
   "source": [
    "trust['Address'] = trust['Address'].astype(str)\n",
    "clean_str = lambda x: re.sub(r'[\\r\\n\\t]+', '', x)\n",
    "\n",
    "def capitalize_names(s):\n",
    "    names = s.split()\n",
    "    cp_names = [name.title() for name in names]\n",
    "    return \" \".join(cp_names)\n",
    "\n",
    "trust['Address'] = trust['Address'].apply(clean_str)\n",
    "trust['Address'] = trust['Address'].apply(capitalize_names)\n",
    "trust['Address'].head()"
   ]
  },
  {
   "cell_type": "markdown",
   "id": "a90db6b8",
   "metadata": {},
   "source": [
    "### The Phone Number Column"
   ]
  },
  {
   "cell_type": "code",
   "execution_count": 12,
   "id": "39688e95",
   "metadata": {},
   "outputs": [
    {
     "data": {
      "text/plain": [
       "0     9441-413161 \n",
       "1     9441-195424 \n",
       "2     9848-164779 \n",
       "3     9290-457978 \n",
       "4     7702-977499 \n",
       "Name: Phone No., dtype: object"
      ]
     },
     "execution_count": 12,
     "metadata": {},
     "output_type": "execute_result"
    }
   ],
   "source": [
    "def format_phoneno(s):\n",
    "    return s[:5] + \"-\" + s[5:]\n",
    "\n",
    "trust['Phone No.'] = trust['Phone No.'].apply(format_phoneno)\n",
    "trust['Phone No.'].head()"
   ]
  },
  {
   "cell_type": "markdown",
   "id": "cd0c2cff",
   "metadata": {},
   "source": [
    "### The Schemes Enrolled Column"
   ]
  },
  {
   "cell_type": "code",
   "execution_count": 13,
   "id": "a944cb0c",
   "metadata": {},
   "outputs": [
    {
     "data": {
      "text/plain": [
       "0                    Vikaas,Disha Niramaya\n",
       "1                             Disha,Vikaas\n",
       "2          Badhte Kadam,Gharaunda Niramaya\n",
       "3        Samarth,Badhte Kadam,Vikaas,Disha\n",
       "4    Gharaunda,Samarth,Vikaas,Badhte Kadam\n",
       "Name: Schemes Enrolled, dtype: object"
      ]
     },
     "execution_count": 13,
     "metadata": {},
     "output_type": "execute_result"
    }
   ],
   "source": [
    "trust['Schemes Enrolled'] = trust['Schemes Enrolled'].astype(str)\n",
    "\n",
    "trust['Schemes Enrolled'] = trust['Schemes Enrolled'].apply(clean_str)\n",
    "trust['Schemes Enrolled'].head()"
   ]
  },
  {
   "cell_type": "markdown",
   "id": "34052a0b",
   "metadata": {},
   "source": [
    "### The Authorized Person Column"
   ]
  },
  {
   "cell_type": "code",
   "execution_count": 14,
   "id": "e1df735e",
   "metadata": {},
   "outputs": [
    {
     "data": {
      "text/plain": [
       "0                     M Immanuel\n",
       "1      Kasinadhuni Nageswara Rao\n",
       "2                      S.P.Reddy\n",
       "3                Dr. Usha Devi.P\n",
       "4        Dr. T. Venkateswara Rao\n",
       "                 ...            \n",
       "537               Parveen Kumari\n",
       "538     Dr. Mir Mohammad Maqbool\n",
       "539                Chamail Kumar\n",
       "540          Miss Huzaifa Ashraf\n",
       "541              Javed Ahmad Tak\n",
       "Name: Authorized Person, Length: 542, dtype: object"
      ]
     },
     "execution_count": 14,
     "metadata": {},
     "output_type": "execute_result"
    }
   ],
   "source": [
    "i = 0\n",
    "for name in trust['Authorized Person']:\n",
    "    words = name.split()\n",
    "    capitalized_names = [word.title() for word in words]\n",
    "    \n",
    "   \n",
    "    trust['Authorized Person'][i] = \" \".join(capitalized_names)\n",
    "    i = i + 1\n",
    "\n",
    "trust['Authorized Person']"
   ]
  },
  {
   "cell_type": "markdown",
   "id": "941c55dd",
   "metadata": {},
   "source": [
    "## Preliminary Data Analysis\n",
    "Now that I have cleaned the National Trust dataset, I will analyze the dataset."
   ]
  },
  {
   "cell_type": "markdown",
   "id": "c762903d",
   "metadata": {},
   "source": [
    "### Size of data, column descriptions"
   ]
  },
  {
   "cell_type": "code",
   "execution_count": 15,
   "id": "31177949",
   "metadata": {},
   "outputs": [
    {
     "data": {
      "text/plain": [
       "(542, 9)"
      ]
     },
     "execution_count": 15,
     "metadata": {},
     "output_type": "execute_result"
    }
   ],
   "source": [
    "trust.shape"
   ]
  },
  {
   "cell_type": "markdown",
   "id": "b1ac0b4c",
   "metadata": {},
   "source": [
    "The dataset has 542 entries, or organizations, with 9 descriptive columns."
   ]
  },
  {
   "cell_type": "code",
   "execution_count": 16,
   "id": "d232b2e2",
   "metadata": {},
   "outputs": [
    {
     "data": {
      "text/plain": [
       "['S.No.',\n",
       " 'State',\n",
       " 'District',\n",
       " 'Organization Name',\n",
       " 'Email',\n",
       " 'Address',\n",
       " 'Phone No.',\n",
       " 'Schemes Enrolled',\n",
       " 'Authorized Person']"
      ]
     },
     "execution_count": 16,
     "metadata": {},
     "output_type": "execute_result"
    }
   ],
   "source": [
    "cols_trust = trust.columns.values.astype('str')\n",
    "col_tr_list = cols_trust.tolist()\n",
    "col_tr_list"
   ]
  },
  {
   "cell_type": "markdown",
   "id": "4a1fbfdb",
   "metadata": {},
   "source": [
    "These are the names of each of the 9 columns in the dataset. The column names provide sufficient description for the data with the exception of the 'S.No', 'Authorized Person', and 'Schemes Enrolled. <br>\n",
    "<br>\n",
    "**'S.No.'** refers to the number of the entry in the data (1-542) <br>\n",
    "**'Authorized Person'** refers to the president, director, chief executive officer, or other designated official of the applicant organization, who has the authority to commit the resources of the organization <br>\n",
    "<br>\n",
    "**'Schemes Enrolled'** refers to the scheme(s) under which this organization operates. Government schemes can be defined as a plan, design or program formulated by the government for the welfare of the people. Because the mission 'welfare for persons with disabilities' is very general, the Indian government collaborates with many NGOs, each working on different specialized programs. Each of these programs is categorized by a key name, the descriptions of which are given below."
   ]
  },
  {
   "cell_type": "code",
   "execution_count": 17,
   "id": "5ba191d4",
   "metadata": {},
   "outputs": [
    {
     "data": {
      "text/html": [
       "<div>\n",
       "<style scoped>\n",
       "    .dataframe tbody tr th:only-of-type {\n",
       "        vertical-align: middle;\n",
       "    }\n",
       "\n",
       "    .dataframe tbody tr th {\n",
       "        vertical-align: top;\n",
       "    }\n",
       "\n",
       "    .dataframe thead th {\n",
       "        text-align: right;\n",
       "    }\n",
       "</style>\n",
       "<table border=\"1\" class=\"dataframe\">\n",
       "  <thead>\n",
       "    <tr style=\"text-align: right;\">\n",
       "      <th></th>\n",
       "      <th>Scheme Name</th>\n",
       "      <th>Description</th>\n",
       "    </tr>\n",
       "  </thead>\n",
       "  <tbody>\n",
       "    <tr>\n",
       "      <th>0</th>\n",
       "      <td>Disha</td>\n",
       "      <td>Early Intervention and School Readiness for Ages 0-10</td>\n",
       "    </tr>\n",
       "    <tr>\n",
       "      <th>1</th>\n",
       "      <td>Vikas</td>\n",
       "      <td>Day Care scheme for Ages 10+</td>\n",
       "    </tr>\n",
       "    <tr>\n",
       "      <th>2</th>\n",
       "      <td>Samarth</td>\n",
       "      <td>Respite Care Residential</td>\n",
       "    </tr>\n",
       "    <tr>\n",
       "      <th>3</th>\n",
       "      <td>Gharaunda</td>\n",
       "      <td>Group Home for Adults</td>\n",
       "    </tr>\n",
       "    <tr>\n",
       "      <th>4</th>\n",
       "      <td>Niramaya</td>\n",
       "      <td>Health Insurance</td>\n",
       "    </tr>\n",
       "    <tr>\n",
       "      <th>5</th>\n",
       "      <td>Prerna</td>\n",
       "      <td>Marketing Assistance</td>\n",
       "    </tr>\n",
       "    <tr>\n",
       "      <th>6</th>\n",
       "      <td>Sahyogi</td>\n",
       "      <td>Care Associates Training</td>\n",
       "    </tr>\n",
       "    <tr>\n",
       "      <th>7</th>\n",
       "      <td>Sambhav</td>\n",
       "      <td>Assistive Devices</td>\n",
       "    </tr>\n",
       "    <tr>\n",
       "      <th>8</th>\n",
       "      <td>Gyan Prabha</td>\n",
       "      <td>Educational Support</td>\n",
       "    </tr>\n",
       "    <tr>\n",
       "      <th>9</th>\n",
       "      <td>Bahdte Kadam</td>\n",
       "      <td>Community Awareness and Innovative project</td>\n",
       "    </tr>\n",
       "  </tbody>\n",
       "</table>\n",
       "</div>"
      ],
      "text/plain": [
       "    Scheme Name                                            Description\n",
       "0         Disha  Early Intervention and School Readiness for Ages 0-10\n",
       "1         Vikas                           Day Care scheme for Ages 10+\n",
       "2       Samarth                               Respite Care Residential\n",
       "3     Gharaunda                                  Group Home for Adults\n",
       "4      Niramaya                                       Health Insurance\n",
       "5        Prerna                                   Marketing Assistance\n",
       "6       Sahyogi                               Care Associates Training\n",
       "7       Sambhav                                      Assistive Devices\n",
       "8   Gyan Prabha                                    Educational Support\n",
       "9  Bahdte Kadam             Community Awareness and Innovative project"
      ]
     },
     "execution_count": 17,
     "metadata": {},
     "output_type": "execute_result"
    }
   ],
   "source": [
    "pd.set_option(\"display.max_colwidth\", 100)\n",
    "\n",
    "schemes = ['Disha', 'Vikas', 'Samarth', 'Gharaunda', 'Niramaya', \n",
    "           'Prerna', 'Sahyogi', 'Sambhav', 'Gyan Prabha', 'Bahdte Kadam'] \n",
    "\n",
    "scm_desc = ['Early Intervention and School Readiness for Ages 0-10', \n",
    "            'Day Care scheme for Ages 10+',\n",
    "            'Respite Care Residential', \n",
    "            'Group Home for Adults', \n",
    "            'Health Insurance', \n",
    "            'Marketing Assistance', \n",
    "            'Care Associates Training', \n",
    "            'Assistive Devices',\n",
    "            'Educational Support',\n",
    "            'Community Awareness and Innovative project'\n",
    "           ]\n",
    "\n",
    "scm = pd.DataFrame(data={'Scheme Name': schemes[:], 'Description': scm_desc})\n",
    "scm"
   ]
  },
  {
   "cell_type": "markdown",
   "id": "098ff8a2",
   "metadata": {},
   "source": [
    "### The State Column"
   ]
  },
  {
   "cell_type": "code",
   "execution_count": 18,
   "id": "885b0547",
   "metadata": {},
   "outputs": [
    {
     "data": {
      "text/plain": [
       "<AxesSubplot:xlabel='State'>"
      ]
     },
     "execution_count": 18,
     "metadata": {},
     "output_type": "execute_result"
    },
    {
     "data": {
      "image/png": "[encoded data removed]",
      "text/plain": [
       "<Figure size 640x480 with 1 Axes>"
      ]
     },
     "metadata": {},
     "output_type": "display_data"
    }
   ],
   "source": [
    "trust.value_counts(['State'])\n",
    "trust.value_counts(['State']).plot(kind='bar')"
   ]
  },
  {
   "cell_type": "markdown",
   "id": "6f640d72",
   "metadata": {},
   "source": [
    "The states with the most organizations from our dataset are Uttar Pradesh, West Bengal, and Madhya Pradesh in that order. Tripura, Sikkim, and Meghalaya have the fewest number of NGOs represented in our dataset."
   ]
  },
  {
   "cell_type": "code",
   "execution_count": 19,
   "id": "43fa0433",
   "metadata": {},
   "outputs": [
    {
     "data": {
      "text/plain": [
       "30"
      ]
     },
     "execution_count": 19,
     "metadata": {},
     "output_type": "execute_result"
    }
   ],
   "source": [
    "len(pd.unique(trust['State']))"
   ]
  },
  {
   "cell_type": "markdown",
   "id": "9ed3072e",
   "metadata": {},
   "source": [
    "Our dataset contains NGOs from 30 unique Indian states and union territories (there are 28 states + 8 union territories = 36 total). States in India are administered by the governor of that state, whereas the an Administrator representative of the president is the head of the executive branch of the union territories."
   ]
  },
  {
   "cell_type": "markdown",
   "id": "5aac4fdc",
   "metadata": {},
   "source": [
    "### The District Column"
   ]
  },
  {
   "cell_type": "code",
   "execution_count": 20,
   "id": "dbff88ef",
   "metadata": {},
   "outputs": [
    {
     "data": {
      "text/plain": [
       "District       \n",
       "Kolkata            13\n",
       "Bangalore Urban    11\n",
       "Ahmedabad           9\n",
       "Bhopal              7\n",
       "Patna               7\n",
       "                   ..\n",
       "Ludhiana            1\n",
       "Madurai             1\n",
       "Mahbubnagar         1\n",
       "Mahesana            1\n",
       "Yamunanagar         1\n",
       "Length: 297, dtype: int64"
      ]
     },
     "execution_count": 20,
     "metadata": {},
     "output_type": "execute_result"
    }
   ],
   "source": [
    "trust.value_counts(['District'])"
   ]
  },
  {
   "cell_type": "markdown",
   "id": "e5fab743",
   "metadata": {},
   "source": [
    "Districts in India are further subdivisions within states; our dataset has 297 unique districts, which is close to half of the 766 districts in India total."
   ]
  },
  {
   "cell_type": "markdown",
   "id": "dd98b190",
   "metadata": {},
   "source": [
    "### The Organization Name Column"
   ]
  },
  {
   "cell_type": "code",
   "execution_count": 21,
   "id": "72cc5403",
   "metadata": {},
   "outputs": [
    {
     "data": {
      "text/plain": [
       "Organization Name                                                                                  \n",
       "Disha Charitable Trust                                                                                 2\n",
       "Child Concern                                                                                          2\n",
       "Aadhar Foundation                                                                                      1\n",
       "Rural Community Development Of India Rucode India                                                      1\n",
       "Riddhi Society for Remedial and Integrated Education                                                   1\n",
       "                                                                                                      ..\n",
       "Humanity Welfare Organisation Helpline Bijbehara                                                       1\n",
       "Humanity Charitable Trust                                                                              1\n",
       "Human Rights Protection Cell and Welfare Association Ashhraya Siddyana Tobba Lower Dehlan Distt Una    1\n",
       "Hope Disability Centre an Undertaking Of She Hope Society for Women Entrepreneurs                      1\n",
       "Yuba Unnayan Seba Samity                                                                               1\n",
       "Length: 540, dtype: int64"
      ]
     },
     "execution_count": 21,
     "metadata": {},
     "output_type": "execute_result"
    }
   ],
   "source": [
    "trust.value_counts(['Organization Name'])"
   ]
  },
  {
   "cell_type": "code",
   "execution_count": 22,
   "id": "83a739f7",
   "metadata": {},
   "outputs": [
    {
     "data": {
      "text/html": [
       "<div>\n",
       "<style scoped>\n",
       "    .dataframe tbody tr th:only-of-type {\n",
       "        vertical-align: middle;\n",
       "    }\n",
       "\n",
       "    .dataframe tbody tr th {\n",
       "        vertical-align: top;\n",
       "    }\n",
       "\n",
       "    .dataframe thead th {\n",
       "        text-align: right;\n",
       "    }\n",
       "</style>\n",
       "<table border=\"1\" class=\"dataframe\">\n",
       "  <thead>\n",
       "    <tr style=\"text-align: right;\">\n",
       "      <th></th>\n",
       "      <th>S.No.</th>\n",
       "      <th>State</th>\n",
       "      <th>District</th>\n",
       "      <th>Organization Name</th>\n",
       "      <th>Email</th>\n",
       "      <th>Address</th>\n",
       "      <th>Phone No.</th>\n",
       "      <th>Schemes Enrolled</th>\n",
       "      <th>Authorized Person</th>\n",
       "    </tr>\n",
       "  </thead>\n",
       "  <tbody>\n",
       "    <tr>\n",
       "      <th>54</th>\n",
       "      <td>55</td>\n",
       "      <td>Goa</td>\n",
       "      <td>North Goa</td>\n",
       "      <td>Disha Charitable Trust</td>\n",
       "      <td>disha.sare.ansh@gmail.com</td>\n",
       "      <td>Disha Charitable Trust, 18 June Roadbehind Directorate Of Education, Panaji, Goa - 403001</td>\n",
       "      <td>9822-980015</td>\n",
       "      <td></td>\n",
       "      <td>Sandhya Kalokhe</td>\n",
       "    </tr>\n",
       "    <tr>\n",
       "      <th>80</th>\n",
       "      <td>81</td>\n",
       "      <td>Gujarat</td>\n",
       "      <td>Vadodara</td>\n",
       "      <td>Disha Charitable Trust</td>\n",
       "      <td>dishaschoolbaroda@gmail.com</td>\n",
       "      <td>62, Sampatrao Colony, Opp. Circuit Housealkapuri, Vadodara - 390005</td>\n",
       "      <td>9227-108880</td>\n",
       "      <td></td>\n",
       "      <td>Mr. Naresh Chawla</td>\n",
       "    </tr>\n",
       "  </tbody>\n",
       "</table>\n",
       "</div>"
      ],
      "text/plain": [
       "   S.No.      State   District       Organization Name  \\\n",
       "54    55       Goa   North Goa  Disha Charitable Trust   \n",
       "80    81   Gujarat    Vadodara  Disha Charitable Trust   \n",
       "\n",
       "                          Email  \\\n",
       "54    disha.sare.ansh@gmail.com   \n",
       "80  dishaschoolbaroda@gmail.com   \n",
       "\n",
       "                                                                                      Address  \\\n",
       "54  Disha Charitable Trust, 18 June Roadbehind Directorate Of Education, Panaji, Goa - 403001   \n",
       "80                        62, Sampatrao Colony, Opp. Circuit Housealkapuri, Vadodara - 390005   \n",
       "\n",
       "        Phone No. Schemes Enrolled  Authorized Person  \n",
       "54   9822-980015                      Sandhya Kalokhe  \n",
       "80   9227-108880                    Mr. Naresh Chawla  "
      ]
     },
     "execution_count": 22,
     "metadata": {},
     "output_type": "execute_result"
    }
   ],
   "source": [
    "trust[trust['Organization Name'] == 'Disha Charitable Trust']"
   ]
  },
  {
   "cell_type": "markdown",
   "id": "702d44af",
   "metadata": {},
   "source": [
    "There are 541 unique organization names; 'Disha Charitable Trust' refers to two separate organizations in two different states, therefore I conclude that there are no duplicate entries in our dataset."
   ]
  },
  {
   "cell_type": "markdown",
   "id": "f6f8a344",
   "metadata": {},
   "source": [
    "### The Email Column"
   ]
  },
  {
   "cell_type": "code",
   "execution_count": 23,
   "id": "c138e81c",
   "metadata": {},
   "outputs": [],
   "source": [
    "#for loop to validate all emails in the dataset\n",
    "\n",
    "for email in trust['Email']:\n",
    "    try:\n",
    "        email = validate_email(email).email\n",
    "    except EmailNotValidError as e:\n",
    "        print(str(e))"
   ]
  },
  {
   "cell_type": "markdown",
   "id": "04cc3247",
   "metadata": {},
   "source": [
    "Running this cell does not cause an error print message; therefore all email addresses in the dataset have correct syntax and deliverability."
   ]
  },
  {
   "cell_type": "markdown",
   "id": "df0356a2",
   "metadata": {},
   "source": [
    "### The Schemes Enrolled Column"
   ]
  },
  {
   "cell_type": "code",
   "execution_count": 24,
   "id": "f7b3ceaa",
   "metadata": {},
   "outputs": [
    {
     "data": {
      "text/plain": [
       "Schemes Enrolled                   \n",
       "                                       271\n",
       " Niramaya                               87\n",
       "Vikaas                                  14\n",
       "Disha                                   13\n",
       "Badhte Kadam Niramaya                    9\n",
       "                                      ... \n",
       "Disha,Samarth,Badhte Kadam               1\n",
       "Disha,Samarth                            1\n",
       "Disha,Sahyogi,Badhte Kadam               1\n",
       "Disha,Prerna                             1\n",
       "Vikaas,Samarth,Badhte Kadam,Sahyogi      1\n",
       "Length: 104, dtype: int64"
      ]
     },
     "execution_count": 24,
     "metadata": {},
     "output_type": "execute_result"
    }
   ],
   "source": [
    "trust.value_counts(['Schemes Enrolled'])"
   ]
  },
  {
   "cell_type": "markdown",
   "id": "ecfc0ed0",
   "metadata": {},
   "source": [
    "The most common schemes enrolled by the NGOs in the dataset include Niramaya, Vikaas, and Disha, with some organizations taking on multiple schemes at a time."
   ]
  },
  {
   "cell_type": "markdown",
   "id": "65edb511",
   "metadata": {},
   "source": [
    "### The Authorized Person Column"
   ]
  },
  {
   "cell_type": "code",
   "execution_count": 25,
   "id": "66715c2d",
   "metadata": {},
   "outputs": [
    {
     "data": {
      "text/plain": [
       "Authorized Person         \n",
       "A Lawrence                    1\n",
       "Purushottam Gopilal Sharma    1\n",
       "Raju Yadav                    1\n",
       "Rajkishor Sabut               1\n",
       "Rajiv Kumar Raikwar           1\n",
       "                             ..\n",
       "Henthianlun                   1\n",
       "Harpreet Kaur Bedi            1\n",
       "Harish Malik                  1\n",
       "Gyanendra Purohit             1\n",
       "Yusufi F Kapadiya             1\n",
       "Length: 542, dtype: int64"
      ]
     },
     "execution_count": 25,
     "metadata": {},
     "output_type": "execute_result"
    }
   ],
   "source": [
    "trust.value_counts(['Authorized Person'])"
   ]
  },
  {
   "cell_type": "markdown",
   "id": "53e06981",
   "metadata": {},
   "source": [
    "Most NGO in our dataset have a unique authorized person; some authorized people authorize at most two NGOs in the dataset."
   ]
  },
  {
   "cell_type": "markdown",
   "id": "f855f1d0",
   "metadata": {},
   "source": [
    "### Transforming Data to Data Schema"
   ]
  },
  {
   "cell_type": "code",
   "execution_count": 28,
   "id": "df9d4f46",
   "metadata": {},
   "outputs": [
    {
     "data": {
      "text/html": [
       "<div>\n",
       "<style scoped>\n",
       "    .dataframe tbody tr th:only-of-type {\n",
       "        vertical-align: middle;\n",
       "    }\n",
       "\n",
       "    .dataframe tbody tr th {\n",
       "        vertical-align: top;\n",
       "    }\n",
       "\n",
       "    .dataframe thead th {\n",
       "        text-align: right;\n",
       "    }\n",
       "</style>\n",
       "<table border=\"1\" class=\"dataframe\">\n",
       "  <thead>\n",
       "    <tr style=\"text-align: right;\">\n",
       "      <th></th>\n",
       "      <th>ngoid</th>\n",
       "      <th>state</th>\n",
       "      <th>district</th>\n",
       "      <th>ngoname</th>\n",
       "      <th>orgemail</th>\n",
       "      <th>physicaladdress</th>\n",
       "      <th>officephone</th>\n",
       "      <th>orgtype</th>\n",
       "      <th>chairmanname</th>\n",
       "    </tr>\n",
       "  </thead>\n",
       "  <tbody>\n",
       "    <tr>\n",
       "      <th>0</th>\n",
       "      <td>1</td>\n",
       "      <td>Andhra Pradesh</td>\n",
       "      <td>Krishna</td>\n",
       "      <td>Sirisha Rehabilitation Centre</td>\n",
       "      <td>srcpamidi@yahoo.com</td>\n",
       "      <td>Dno 3 /57, Veerankilock,Pamidimukkala(Md), Veerankilock - 521250</td>\n",
       "      <td>9441-413161</td>\n",
       "      <td>Vikaas,Disha Niramaya</td>\n",
       "      <td>M Immanuel</td>\n",
       "    </tr>\n",
       "    <tr>\n",
       "      <th>1</th>\n",
       "      <td>2</td>\n",
       "      <td>Andhra Pradesh</td>\n",
       "      <td>Krishna</td>\n",
       "      <td>Kasinadhuni Durgamba Butchaiah Trust</td>\n",
       "      <td>kdbtrust_elakurru@yahoo.com</td>\n",
       "      <td>3-74, Near S.F.U.P Schoolink Road, Elakurru - 521156</td>\n",
       "      <td>9441-195424</td>\n",
       "      <td>Disha,Vikaas</td>\n",
       "      <td>Kasinadhuni Nageswara Rao</td>\n",
       "    </tr>\n",
       "    <tr>\n",
       "      <th>2</th>\n",
       "      <td>3</td>\n",
       "      <td>Andhra Pradesh</td>\n",
       "      <td>Godavari East</td>\n",
       "      <td>Uma Educational and Technical Society</td>\n",
       "      <td>umamanovikasakendram@gmail.com</td>\n",
       "      <td>4 -54, Uma Manovikas Nagarvakala Pudi Panchayath, Near Ryudupalem, Kakinada, District-East Godav...</td>\n",
       "      <td>9848-164779</td>\n",
       "      <td>Badhte Kadam,Gharaunda Niramaya</td>\n",
       "      <td>S.P.Reddy</td>\n",
       "    </tr>\n",
       "    <tr>\n",
       "      <th>3</th>\n",
       "      <td>4</td>\n",
       "      <td>Andhra Pradesh</td>\n",
       "      <td>Vishakhapatnam</td>\n",
       "      <td>Sreya Foundation</td>\n",
       "      <td>sreyafoundation@yahoo.co.in</td>\n",
       "      <td>D.No.9-11-8/30, Sivajipalemopp Road Sivajipark Main Gate, Visakhapatnam - 530017</td>\n",
       "      <td>9290-457978</td>\n",
       "      <td>Samarth,Badhte Kadam,Vikaas,Disha</td>\n",
       "      <td>Dr. Usha Devi.P</td>\n",
       "    </tr>\n",
       "    <tr>\n",
       "      <th>4</th>\n",
       "      <td>5</td>\n",
       "      <td>Andhra Pradesh</td>\n",
       "      <td>Guntur</td>\n",
       "      <td>Sri Dakshinya Bhava Samithi</td>\n",
       "      <td>dakshinya1995@yahoo.com</td>\n",
       "      <td>Madhavi Nilayam, Swarna Bharathi Nagarj.K.C. College Road, New Rto Office, Guntur - 522006</td>\n",
       "      <td>7702-977499</td>\n",
       "      <td>Gharaunda,Samarth,Vikaas,Badhte Kadam</td>\n",
       "      <td>Dr. T. Venkateswara Rao</td>\n",
       "    </tr>\n",
       "  </tbody>\n",
       "</table>\n",
       "</div>"
      ],
      "text/plain": [
       "  ngoid             state        district  \\\n",
       "0     1   Andhra Pradesh          Krishna   \n",
       "1     2   Andhra Pradesh          Krishna   \n",
       "2     3   Andhra Pradesh    Godavari East   \n",
       "3     4   Andhra Pradesh   Vishakhapatnam   \n",
       "4     5   Andhra Pradesh           Guntur   \n",
       "\n",
       "                                 ngoname                        orgemail  \\\n",
       "0          Sirisha Rehabilitation Centre             srcpamidi@yahoo.com   \n",
       "1   Kasinadhuni Durgamba Butchaiah Trust     kdbtrust_elakurru@yahoo.com   \n",
       "2  Uma Educational and Technical Society  umamanovikasakendram@gmail.com   \n",
       "3                       Sreya Foundation     sreyafoundation@yahoo.co.in   \n",
       "4            Sri Dakshinya Bhava Samithi         dakshinya1995@yahoo.com   \n",
       "\n",
       "                                                                                       physicaladdress  \\\n",
       "0                                     Dno 3 /57, Veerankilock,Pamidimukkala(Md), Veerankilock - 521250   \n",
       "1                                                 3-74, Near S.F.U.P Schoolink Road, Elakurru - 521156   \n",
       "2  4 -54, Uma Manovikas Nagarvakala Pudi Panchayath, Near Ryudupalem, Kakinada, District-East Godav...   \n",
       "3                     D.No.9-11-8/30, Sivajipalemopp Road Sivajipark Main Gate, Visakhapatnam - 530017   \n",
       "4           Madhavi Nilayam, Swarna Bharathi Nagarj.K.C. College Road, New Rto Office, Guntur - 522006   \n",
       "\n",
       "     officephone                                orgtype  \\\n",
       "0   9441-413161                   Vikaas,Disha Niramaya   \n",
       "1   9441-195424                            Disha,Vikaas   \n",
       "2   9848-164779         Badhte Kadam,Gharaunda Niramaya   \n",
       "3   9290-457978       Samarth,Badhte Kadam,Vikaas,Disha   \n",
       "4   7702-977499   Gharaunda,Samarth,Vikaas,Badhte Kadam   \n",
       "\n",
       "                chairmanname  \n",
       "0                 M Immanuel  \n",
       "1  Kasinadhuni Nageswara Rao  \n",
       "2                  S.P.Reddy  \n",
       "3            Dr. Usha Devi.P  \n",
       "4    Dr. T. Venkateswara Rao  "
      ]
     },
     "execution_count": 28,
     "metadata": {},
     "output_type": "execute_result"
    }
   ],
   "source": [
    "#rename columns to match data schema\n",
    "trust.rename(columns = {'S.No.':'ngoid',\n",
    "                        'State':'state',\n",
    "                        'District':'district',\n",
    "                        'Organization Name':'ngoname',\n",
    "                        'Email':'orgemail',\n",
    "                        'Address':'physicaladdress',\n",
    "                        'Phone No.':'officephone',\n",
    "                        'Schemes Enrolled':'orgtype',\n",
    "                        'Authorized Person':'chairmanname'}, inplace = True)\n",
    "trust.head()"
   ]
  },
  {
   "cell_type": "code",
   "execution_count": 29,
   "id": "29544934",
   "metadata": {},
   "outputs": [
    {
     "data": {
      "text/plain": [
       "ngoid              object\n",
       "state              object\n",
       "district           object\n",
       "ngoname            object\n",
       "orgemail           object\n",
       "physicaladdress    object\n",
       "officephone        object\n",
       "orgtype            object\n",
       "chairmanname       object\n",
       "dtype: object"
      ]
     },
     "execution_count": 29,
     "metadata": {},
     "output_type": "execute_result"
    }
   ],
   "source": [
    "#check data types of all of the columns\n",
    "trust.dtypes"
   ]
  },
  {
   "cell_type": "code",
   "execution_count": 30,
   "id": "59dbccc7",
   "metadata": {},
   "outputs": [
    {
     "data": {
      "text/html": [
       "<div>\n",
       "<style scoped>\n",
       "    .dataframe tbody tr th:only-of-type {\n",
       "        vertical-align: middle;\n",
       "    }\n",
       "\n",
       "    .dataframe tbody tr th {\n",
       "        vertical-align: top;\n",
       "    }\n",
       "\n",
       "    .dataframe thead th {\n",
       "        text-align: right;\n",
       "    }\n",
       "</style>\n",
       "<table border=\"1\" class=\"dataframe\">\n",
       "  <thead>\n",
       "    <tr style=\"text-align: right;\">\n",
       "      <th></th>\n",
       "      <th>ngoname</th>\n",
       "      <th>orgemail</th>\n",
       "      <th>physicaladdress</th>\n",
       "      <th>officephone</th>\n",
       "      <th>chairmanname</th>\n",
       "    </tr>\n",
       "  </thead>\n",
       "  <tbody>\n",
       "    <tr>\n",
       "      <th>0</th>\n",
       "      <td>Sirisha Rehabilitation Centre</td>\n",
       "      <td>srcpamidi@yahoo.com</td>\n",
       "      <td>Dno 3 /57, Veerankilock,Pamidimukkala(Md), Veerankilock - 521250</td>\n",
       "      <td>9441-413161</td>\n",
       "      <td>M Immanuel</td>\n",
       "    </tr>\n",
       "    <tr>\n",
       "      <th>1</th>\n",
       "      <td>Kasinadhuni Durgamba Butchaiah Trust</td>\n",
       "      <td>kdbtrust_elakurru@yahoo.com</td>\n",
       "      <td>3-74, Near S.F.U.P Schoolink Road, Elakurru - 521156</td>\n",
       "      <td>9441-195424</td>\n",
       "      <td>Kasinadhuni Nageswara Rao</td>\n",
       "    </tr>\n",
       "    <tr>\n",
       "      <th>2</th>\n",
       "      <td>Uma Educational and Technical Society</td>\n",
       "      <td>umamanovikasakendram@gmail.com</td>\n",
       "      <td>4 -54, Uma Manovikas Nagarvakala Pudi Panchayath, Near Ryudupalem, Kakinada, District-East Godav...</td>\n",
       "      <td>9848-164779</td>\n",
       "      <td>S.P.Reddy</td>\n",
       "    </tr>\n",
       "    <tr>\n",
       "      <th>3</th>\n",
       "      <td>Sreya Foundation</td>\n",
       "      <td>sreyafoundation@yahoo.co.in</td>\n",
       "      <td>D.No.9-11-8/30, Sivajipalemopp Road Sivajipark Main Gate, Visakhapatnam - 530017</td>\n",
       "      <td>9290-457978</td>\n",
       "      <td>Dr. Usha Devi.P</td>\n",
       "    </tr>\n",
       "    <tr>\n",
       "      <th>4</th>\n",
       "      <td>Sri Dakshinya Bhava Samithi</td>\n",
       "      <td>dakshinya1995@yahoo.com</td>\n",
       "      <td>Madhavi Nilayam, Swarna Bharathi Nagarj.K.C. College Road, New Rto Office, Guntur - 522006</td>\n",
       "      <td>7702-977499</td>\n",
       "      <td>Dr. T. Venkateswara Rao</td>\n",
       "    </tr>\n",
       "    <tr>\n",
       "      <th>...</th>\n",
       "      <td>...</td>\n",
       "      <td>...</td>\n",
       "      <td>...</td>\n",
       "      <td>...</td>\n",
       "      <td>...</td>\n",
       "    </tr>\n",
       "    <tr>\n",
       "      <th>537</th>\n",
       "      <td>Muskan Foundation</td>\n",
       "      <td>go4muskanfoundation09419@gmail.com</td>\n",
       "      <td>Vijaypur, Canal Road 9Vijaypur, Canal Road Vijaypur - 184120</td>\n",
       "      <td>9419-150607</td>\n",
       "      <td>Parveen Kumari</td>\n",
       "    </tr>\n",
       "    <tr>\n",
       "      <th>538</th>\n",
       "      <td>Voluntary Medicare Society</td>\n",
       "      <td>vmsjk1@gmail.com</td>\n",
       "      <td>Bemina Bye-Pass, Bemina Bye-Pass Srinagarskims Medical College, Srinagar - 190018</td>\n",
       "      <td>9419-467621</td>\n",
       "      <td>Dr. Mir Mohammad Maqbool</td>\n",
       "    </tr>\n",
       "    <tr>\n",
       "      <th>539</th>\n",
       "      <td>Swami Viveka Nand Educational Trust</td>\n",
       "      <td>educationaltrust2007@gmail.com</td>\n",
       "      <td>Near Shiv Mandir, Katal Batal Nagrota, Jammu - 181221</td>\n",
       "      <td>9419-165110</td>\n",
       "      <td>Chamail Kumar</td>\n",
       "    </tr>\n",
       "    <tr>\n",
       "      <th>540</th>\n",
       "      <td>Hope Disability Centre an Undertaking Of She Hope Society for Women Entrepreneurs</td>\n",
       "      <td>huzaifa@hopecentrekashmir.org</td>\n",
       "      <td>001, Wayil Ganderbalnear Jamie Masjid, Ganderbal - 191201</td>\n",
       "      <td>9797-810011</td>\n",
       "      <td>Miss Huzaifa Ashraf</td>\n",
       "    </tr>\n",
       "    <tr>\n",
       "      <th>541</th>\n",
       "      <td>Humanity Welfare Organisation Helpline Bijbehara</td>\n",
       "      <td>jsocialactivist@gmail.com</td>\n",
       "      <td>118, Pahliporanear Pumpshed, Bijbehara - 192124</td>\n",
       "      <td>9469-064964</td>\n",
       "      <td>Javed Ahmad Tak</td>\n",
       "    </tr>\n",
       "  </tbody>\n",
       "</table>\n",
       "<p>542 rows × 5 columns</p>\n",
       "</div>"
      ],
      "text/plain": [
       "                                                                               ngoname  \\\n",
       "0                                                        Sirisha Rehabilitation Centre   \n",
       "1                                                 Kasinadhuni Durgamba Butchaiah Trust   \n",
       "2                                                Uma Educational and Technical Society   \n",
       "3                                                                     Sreya Foundation   \n",
       "4                                                          Sri Dakshinya Bhava Samithi   \n",
       "..                                                                                 ...   \n",
       "537                                                                  Muskan Foundation   \n",
       "538                                                         Voluntary Medicare Society   \n",
       "539                                                Swami Viveka Nand Educational Trust   \n",
       "540  Hope Disability Centre an Undertaking Of She Hope Society for Women Entrepreneurs   \n",
       "541                                   Humanity Welfare Organisation Helpline Bijbehara   \n",
       "\n",
       "                               orgemail  \\\n",
       "0                   srcpamidi@yahoo.com   \n",
       "1           kdbtrust_elakurru@yahoo.com   \n",
       "2        umamanovikasakendram@gmail.com   \n",
       "3           sreyafoundation@yahoo.co.in   \n",
       "4               dakshinya1995@yahoo.com   \n",
       "..                                  ...   \n",
       "537  go4muskanfoundation09419@gmail.com   \n",
       "538                    vmsjk1@gmail.com   \n",
       "539      educationaltrust2007@gmail.com   \n",
       "540       huzaifa@hopecentrekashmir.org   \n",
       "541           jsocialactivist@gmail.com   \n",
       "\n",
       "                                                                                         physicaladdress  \\\n",
       "0                                       Dno 3 /57, Veerankilock,Pamidimukkala(Md), Veerankilock - 521250   \n",
       "1                                                   3-74, Near S.F.U.P Schoolink Road, Elakurru - 521156   \n",
       "2    4 -54, Uma Manovikas Nagarvakala Pudi Panchayath, Near Ryudupalem, Kakinada, District-East Godav...   \n",
       "3                       D.No.9-11-8/30, Sivajipalemopp Road Sivajipark Main Gate, Visakhapatnam - 530017   \n",
       "4             Madhavi Nilayam, Swarna Bharathi Nagarj.K.C. College Road, New Rto Office, Guntur - 522006   \n",
       "..                                                                                                   ...   \n",
       "537                                         Vijaypur, Canal Road 9Vijaypur, Canal Road Vijaypur - 184120   \n",
       "538                    Bemina Bye-Pass, Bemina Bye-Pass Srinagarskims Medical College, Srinagar - 190018   \n",
       "539                                                Near Shiv Mandir, Katal Batal Nagrota, Jammu - 181221   \n",
       "540                                            001, Wayil Ganderbalnear Jamie Masjid, Ganderbal - 191201   \n",
       "541                                                      118, Pahliporanear Pumpshed, Bijbehara - 192124   \n",
       "\n",
       "       officephone               chairmanname  \n",
       "0     9441-413161                  M Immanuel  \n",
       "1     9441-195424   Kasinadhuni Nageswara Rao  \n",
       "2     9848-164779                   S.P.Reddy  \n",
       "3     9290-457978             Dr. Usha Devi.P  \n",
       "4     7702-977499     Dr. T. Venkateswara Rao  \n",
       "..             ...                        ...  \n",
       "537   9419-150607              Parveen Kumari  \n",
       "538   9419-467621    Dr. Mir Mohammad Maqbool  \n",
       "539   9419-165110               Chamail Kumar  \n",
       "540   9797-810011         Miss Huzaifa Ashraf  \n",
       "541   9469-064964             Javed Ahmad Tak  \n",
       "\n",
       "[542 rows x 5 columns]"
      ]
     },
     "execution_count": 30,
     "metadata": {},
     "output_type": "execute_result"
    }
   ],
   "source": [
    "trust_geography = trust[['state', 'district']]\n",
    "trust_geography\n",
    "\n",
    "trust_ngocontact = trust[['ngoname', 'orgemail', 'physicaladdress', 'officephone', 'chairmanname']]\n",
    "trust_ngocontact"
   ]
  },
  {
   "cell_type": "code",
   "execution_count": 31,
   "id": "19be0ffd",
   "metadata": {},
   "outputs": [],
   "source": [
    "#Export the cleaned trust dataset as CSV file\n",
    "os.makedirs('DaanMatch/csvfiles', exist_ok=True)  \n",
    "\n",
    "#trust to csv\n",
    "#trust in correct data schema format\n",
    "trust.to_csv('DaanMatch/csvfiles/nationaltrustfinal.csv', index=False) #final non-pgAdmin cleaned scraped data\n",
    "trust_geography.to_csv('DaanMatch/csvfiles/nationaltrustgeog.csv', index=False)\n",
    "trust_ngocontact.to_csv('DaanMatch/csvfiles/nationaltrustngoc.csv', index=False)  "
   ]
  },
  {
   "cell_type": "code",
   "execution_count": null,
   "id": "538c44ab",
   "metadata": {},
   "outputs": [],
   "source": []
  }
 ],
 "metadata": {
  "kernelspec": {
   "display_name": "Python 3 (ipykernel)",
   "language": "python",
   "name": "python3"
  },
  "language_info": {
   "codemirror_mode": {
    "name": "ipython",
    "version": 3
   },
   "file_extension": ".py",
   "mimetype": "text/x-python",
   "name": "python",
   "nbconvert_exporter": "python",
   "pygments_lexer": "ipython3",
   "version": "3.9.13"
  }
 },
 "nbformat": 4,
 "nbformat_minor": 5
}
