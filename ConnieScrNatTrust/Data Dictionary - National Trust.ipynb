{
 "cells": [
  {
   "cell_type": "code",
   "execution_count": 2,
   "id": "e50c219d",
   "metadata": {},
   "outputs": [],
   "source": [
    "import pandas as pd"
   ]
  },
  {
   "cell_type": "markdown",
   "id": "1712d514",
   "metadata": {},
   "source": [
    "# Data Dictionary"
   ]
  },
  {
   "cell_type": "markdown",
   "id": "3a034f17",
   "metadata": {},
   "source": [
    "## National Trust"
   ]
  },
  {
   "cell_type": "markdown",
   "id": "5dc398ac",
   "metadata": {},
   "source": [
    "### Description"
   ]
  },
  {
   "cell_type": "markdown",
   "id": "1a68414f",
   "metadata": {},
   "source": [
    "The National Trust dataset, organized by the National Trust for the Welfare of of Persons with Autism, Cerebral Palsy, Mental Retardation and Multiple Disabilities, contains descriptive data on Indian NGOs specifically committed to helping those with various disabilities. "
   ]
  },
  {
   "cell_type": "markdown",
   "id": "64f0b85e",
   "metadata": {},
   "source": [
    "### Shape of Data"
   ]
  },
  {
   "cell_type": "markdown",
   "id": "a9722a70",
   "metadata": {},
   "source": [
    "This dataset contains 542 unique NGO entries, with 8 descriptor variables for each entry: ngoname, state, district, orgemail, physicaladdress, officephone, orgtype, chairmanname"
   ]
  },
  {
   "cell_type": "markdown",
   "id": "e2d5bc85",
   "metadata": {},
   "source": [
    "### ngoname "
   ]
  },
  {
   "cell_type": "markdown",
   "id": "34f364ce",
   "metadata": {},
   "source": [
    "Type: Object (String) <br>\n",
    "Name of the organization."
   ]
  },
  {
   "cell_type": "markdown",
   "id": "89db350a",
   "metadata": {},
   "source": [
    "### state "
   ]
  },
  {
   "cell_type": "markdown",
   "id": "826d1384",
   "metadata": {},
   "source": [
    "Type: Object (String) <br>\n",
    "State in which this organization is located in."
   ]
  },
  {
   "cell_type": "markdown",
   "id": "3efaffa6",
   "metadata": {},
   "source": [
    "### district"
   ]
  },
  {
   "cell_type": "markdown",
   "id": "4664a235",
   "metadata": {},
   "source": [
    "Type: Object (String) <br>\n",
    "District in which this organization is located in."
   ]
  },
  {
   "cell_type": "markdown",
   "id": "d17db294",
   "metadata": {},
   "source": [
    "### orgemail"
   ]
  },
  {
   "cell_type": "markdown",
   "id": "8a753187",
   "metadata": {},
   "source": [
    "Type: Object (String) <br>\n",
    "Email address of the organization; Some are organization-specific addresses and others seem to be email addresses of individuals involved in the organization."
   ]
  },
  {
   "cell_type": "markdown",
   "id": "2f7a1db2",
   "metadata": {},
   "source": [
    "### physicaladdress"
   ]
  },
  {
   "cell_type": "markdown",
   "id": "f0c7284a",
   "metadata": {},
   "source": [
    "Type: Object (String) <br>\n",
    "Physical address of the organization."
   ]
  },
  {
   "cell_type": "markdown",
   "id": "e97a957d",
   "metadata": {},
   "source": [
    "### officephone"
   ]
  },
  {
   "cell_type": "markdown",
   "id": "df0ea950",
   "metadata": {},
   "source": [
    "Type: Object (String) <br>\n",
    "Phone number of the organization."
   ]
  },
  {
   "cell_type": "markdown",
   "id": "b24b037f",
   "metadata": {},
   "source": [
    "### orgtype"
   ]
  },
  {
   "cell_type": "markdown",
   "id": "71c9bc57",
   "metadata": {},
   "source": [
    "Type: Object (String) <br>\n",
    "Type of organization; specifically the scheme(s) of this organization; schemes are the National Trust's method of classifying the type of cause this organization is working for."
   ]
  },
  {
   "cell_type": "code",
   "execution_count": 3,
   "id": "ceda32bf",
   "metadata": {},
   "outputs": [
    {
     "data": {
      "text/html": [
       "<div>\n",
       "<style scoped>\n",
       "    .dataframe tbody tr th:only-of-type {\n",
       "        vertical-align: middle;\n",
       "    }\n",
       "\n",
       "    .dataframe tbody tr th {\n",
       "        vertical-align: top;\n",
       "    }\n",
       "\n",
       "    .dataframe thead th {\n",
       "        text-align: right;\n",
       "    }\n",
       "</style>\n",
       "<table border=\"1\" class=\"dataframe\">\n",
       "  <thead>\n",
       "    <tr style=\"text-align: right;\">\n",
       "      <th></th>\n",
       "      <th>Scheme Name</th>\n",
       "      <th>Description</th>\n",
       "    </tr>\n",
       "  </thead>\n",
       "  <tbody>\n",
       "    <tr>\n",
       "      <th>0</th>\n",
       "      <td>Disha</td>\n",
       "      <td>Early Intervention and School Readiness for Ages 0-10</td>\n",
       "    </tr>\n",
       "    <tr>\n",
       "      <th>1</th>\n",
       "      <td>Vikas</td>\n",
       "      <td>Day Care scheme for Ages 10+</td>\n",
       "    </tr>\n",
       "    <tr>\n",
       "      <th>2</th>\n",
       "      <td>Samarth</td>\n",
       "      <td>Respite Care Residential</td>\n",
       "    </tr>\n",
       "    <tr>\n",
       "      <th>3</th>\n",
       "      <td>Gharaunda</td>\n",
       "      <td>Group Home for Adults</td>\n",
       "    </tr>\n",
       "    <tr>\n",
       "      <th>4</th>\n",
       "      <td>Niramaya</td>\n",
       "      <td>Health Insurance</td>\n",
       "    </tr>\n",
       "    <tr>\n",
       "      <th>5</th>\n",
       "      <td>Prerna</td>\n",
       "      <td>Marketing Assistance</td>\n",
       "    </tr>\n",
       "    <tr>\n",
       "      <th>6</th>\n",
       "      <td>Sahyogi</td>\n",
       "      <td>Care Associates Training</td>\n",
       "    </tr>\n",
       "    <tr>\n",
       "      <th>7</th>\n",
       "      <td>Sambhav</td>\n",
       "      <td>Assistive Devices</td>\n",
       "    </tr>\n",
       "    <tr>\n",
       "      <th>8</th>\n",
       "      <td>Gyan Prabha</td>\n",
       "      <td>Educational Support</td>\n",
       "    </tr>\n",
       "    <tr>\n",
       "      <th>9</th>\n",
       "      <td>Bahdte Kadam</td>\n",
       "      <td>Community Awareness and Innovative project</td>\n",
       "    </tr>\n",
       "  </tbody>\n",
       "</table>\n",
       "</div>"
      ],
      "text/plain": [
       "    Scheme Name                                            Description\n",
       "0         Disha  Early Intervention and School Readiness for Ages 0-10\n",
       "1         Vikas                           Day Care scheme for Ages 10+\n",
       "2       Samarth                               Respite Care Residential\n",
       "3     Gharaunda                                  Group Home for Adults\n",
       "4      Niramaya                                       Health Insurance\n",
       "5        Prerna                                   Marketing Assistance\n",
       "6       Sahyogi                               Care Associates Training\n",
       "7       Sambhav                                      Assistive Devices\n",
       "8   Gyan Prabha                                    Educational Support\n",
       "9  Bahdte Kadam             Community Awareness and Innovative project"
      ]
     },
     "execution_count": 3,
     "metadata": {},
     "output_type": "execute_result"
    }
   ],
   "source": [
    "pd.set_option(\"display.max_colwidth\", 100)\n",
    "\n",
    "schemes = ['Disha', 'Vikas', 'Samarth', 'Gharaunda', 'Niramaya', \n",
    "           'Prerna', 'Sahyogi', 'Sambhav', 'Gyan Prabha', 'Bahdte Kadam'] \n",
    "\n",
    "scm_desc = ['Early Intervention and School Readiness for Ages 0-10', \n",
    "            'Day Care scheme for Ages 10+',\n",
    "            'Respite Care Residential', \n",
    "            'Group Home for Adults', \n",
    "            'Health Insurance', \n",
    "            'Marketing Assistance', \n",
    "            'Care Associates Training', \n",
    "            'Assistive Devices',\n",
    "            'Educational Support',\n",
    "            'Community Awareness and Innovative project'\n",
    "           ]\n",
    "\n",
    "scm = pd.DataFrame(data={'Scheme Name': schemes[:], 'Description': scm_desc})\n",
    "scm"
   ]
  },
  {
   "cell_type": "markdown",
   "id": "3e2a3276",
   "metadata": {},
   "source": [
    "### chairmanname"
   ]
  },
  {
   "cell_type": "markdown",
   "id": "67345706",
   "metadata": {},
   "source": [
    "Type: Object (String) <br>\n",
    "Name of the authorized person of this organization."
   ]
  }
 ],
 "metadata": {
  "kernelspec": {
   "display_name": "Python 3 (ipykernel)",
   "language": "python",
   "name": "python3"
  },
  "language_info": {
   "codemirror_mode": {
    "name": "ipython",
    "version": 3
   },
   "file_extension": ".py",
   "mimetype": "text/x-python",
   "name": "python",
   "nbconvert_exporter": "python",
   "pygments_lexer": "ipython3",
   "version": "3.9.13"
  }
 },
 "nbformat": 4,
 "nbformat_minor": 5
}
